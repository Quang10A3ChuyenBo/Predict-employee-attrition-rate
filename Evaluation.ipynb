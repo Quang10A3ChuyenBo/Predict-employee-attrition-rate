{
 "cells": [
  {
   "cell_type": "code",
   "id": "28adc8a3b6923f6c",
   "metadata": {
    "ExecuteTime": {
     "end_time": "2024-12-05T13:37:10.676694Z",
     "start_time": "2024-12-05T13:37:10.514277Z"
    }
   },
   "source": [
    "import numpy as np\n",
    "import pandas as pd\n",
    "import matplotlib.pyplot as plt\n",
    "import sns\n",
    "from sklearn.metrics import mean_squared_error\n",
    "from Method.GradientBoost import XGBoostRegressor as xgb\n",
    "import pickle"
   ],
   "outputs": [],
   "execution_count": 7
  },
  {
   "metadata": {
    "ExecuteTime": {
     "end_time": "2024-12-05T13:37:10.948070Z",
     "start_time": "2024-12-05T13:37:10.698578Z"
    }
   },
   "cell_type": "code",
   "source": [
    "train_data = pd.read_csv(\"Processed Data/train.csv\")\n",
    "validation_data = pd.read_csv(\"Processed Data/validation.csv\")"
   ],
   "id": "92014fabb1104fcd",
   "outputs": [],
   "execution_count": 8
  },
  {
   "metadata": {
    "ExecuteTime": {
     "end_time": "2024-12-05T13:37:11.066057Z",
     "start_time": "2024-12-05T13:37:11.041760Z"
    }
   },
   "cell_type": "code",
   "source": [
    "X_train = train_data.drop(columns=['Attrition_rate']).values\n",
    "y_train = train_data['Attrition_rate'].values"
   ],
   "id": "91a352b50d454a79",
   "outputs": [],
   "execution_count": 9
  },
  {
   "metadata": {
    "ExecuteTime": {
     "end_time": "2024-12-05T13:37:11.116548Z",
     "start_time": "2024-12-05T13:37:11.105811Z"
    }
   },
   "cell_type": "code",
   "source": [
    "X_val = validation_data.drop(columns=['Attrition_rate']).values\n",
    "y_val = validation_data['Attrition_rate'].values"
   ],
   "id": "fd11202ac3a6de7c",
   "outputs": [],
   "execution_count": 10
  },
  {
   "metadata": {
    "ExecuteTime": {
     "end_time": "2024-12-05T13:37:11.158256Z",
     "start_time": "2024-12-05T13:37:11.151166Z"
    }
   },
   "cell_type": "code",
   "source": [
    "best_params = {\n",
    "    'subsample_cols': 0.706,\n",
    "    'min_child_weight': 2,\n",
    "    'depth': 4,\n",
    "    'min_leaf': 7,\n",
    "    'learning_rate': 0.056,\n",
    "    'boosting_rounds': 15,\n",
    "    'lambda_': 1.168,\n",
    "    'gamma': 0.243,\n",
    "    'eps': 0.1\n",
    "}"
   ],
   "id": "9a7591438a8191c4",
   "outputs": [],
   "execution_count": 11
  },
  {
   "metadata": {
    "ExecuteTime": {
     "end_time": "2024-12-05T14:27:46.553899Z",
     "start_time": "2024-12-05T13:37:11.191593Z"
    }
   },
   "cell_type": "code",
   "source": [
    "final_model = xgb()\n",
    "final_model.fit(X_train, y_train, **best_params)"
   ],
   "id": "728b5e670aaef2e5",
   "outputs": [
    {
     "ename": "KeyboardInterrupt",
     "evalue": "",
     "output_type": "error",
     "traceback": [
      "\u001B[1;31m---------------------------------------------------------------------------\u001B[0m",
      "\u001B[1;31mKeyboardInterrupt\u001B[0m                         Traceback (most recent call last)",
      "Cell \u001B[1;32mIn[12], line 2\u001B[0m\n\u001B[0;32m      1\u001B[0m final_model \u001B[38;5;241m=\u001B[39m xgb()\n\u001B[1;32m----> 2\u001B[0m \u001B[43mfinal_model\u001B[49m\u001B[38;5;241;43m.\u001B[39;49m\u001B[43mfit\u001B[49m\u001B[43m(\u001B[49m\u001B[43mX_train\u001B[49m\u001B[43m,\u001B[49m\u001B[43m \u001B[49m\u001B[43my_train\u001B[49m\u001B[43m,\u001B[49m\u001B[43m \u001B[49m\u001B[38;5;241;43m*\u001B[39;49m\u001B[38;5;241;43m*\u001B[39;49m\u001B[43mbest_params\u001B[49m\u001B[43m)\u001B[49m\n",
      "File \u001B[1;32mD:\\Predict-employee-attrition-rate\\Method\\GradientBoost.py:174\u001B[0m, in \u001B[0;36mfit\u001B[1;34m(self, X, y, subsample_cols, min_child_weight, depth, min_leaf, learning_rate, boosting_rounds, lambda_, gamma, eps, early_stopping_rounds, X_val, y_val)\u001B[0m\n\u001B[0;32m    172\u001B[0m \u001B[38;5;129m@staticmethod\u001B[39m\n\u001B[0;32m    173\u001B[0m \u001B[38;5;28;01mdef\u001B[39;00m \u001B[38;5;21mhess\u001B[39m(preds, labels):\n\u001B[1;32m--> 174\u001B[0m     \u001B[38;5;28;01mreturn\u001B[39;00m (np\u001B[38;5;241m.\u001B[39mfull((preds\u001B[38;5;241m.\u001B[39mshape[\u001B[38;5;241m0\u001B[39m], \u001B[38;5;241m1\u001B[39m), \u001B[38;5;241m2\u001B[39m)\u001B[38;5;241m.\u001B[39mflatten()\u001B[38;5;241m.\u001B[39mastype(\u001B[38;5;124m'\u001B[39m\u001B[38;5;124mfloat64\u001B[39m\u001B[38;5;124m'\u001B[39m))\n",
      "File \u001B[1;32mD:\\Predict-employee-attrition-rate\\Method\\GradientBoost.py:134\u001B[0m, in \u001B[0;36mXGBoostTree.fit\u001B[1;34m(self, x, gradient, hessian, subsample_cols, min_leaf, min_child_weight, depth, lambda_, gamma, eps)\u001B[0m\n\u001B[0;32m    132\u001B[0m \u001B[38;5;28;01mdef\u001B[39;00m \u001B[38;5;21mfit\u001B[39m(\u001B[38;5;28mself\u001B[39m, x, gradient, hessian, subsample_cols\u001B[38;5;241m=\u001B[39m\u001B[38;5;241m0.8\u001B[39m, min_leaf\u001B[38;5;241m=\u001B[39m\u001B[38;5;241m5\u001B[39m, min_child_weight\u001B[38;5;241m=\u001B[39m\u001B[38;5;241m1\u001B[39m, depth\u001B[38;5;241m=\u001B[39m\u001B[38;5;241m10\u001B[39m, lambda_\u001B[38;5;241m=\u001B[39m\u001B[38;5;241m1\u001B[39m,\n\u001B[0;32m    133\u001B[0m         gamma\u001B[38;5;241m=\u001B[39m\u001B[38;5;241m1\u001B[39m, eps\u001B[38;5;241m=\u001B[39m\u001B[38;5;241m0.1\u001B[39m):\n\u001B[1;32m--> 134\u001B[0m     \u001B[38;5;28mself\u001B[39m\u001B[38;5;241m.\u001B[39mdtree \u001B[38;5;241m=\u001B[39m \u001B[43mNode\u001B[49m\u001B[43m(\u001B[49m\u001B[43mx\u001B[49m\u001B[43m,\u001B[49m\u001B[43m \u001B[49m\u001B[43mgradient\u001B[49m\u001B[43m,\u001B[49m\u001B[43m \u001B[49m\u001B[43mhessian\u001B[49m\u001B[43m,\u001B[49m\u001B[43m \u001B[49m\u001B[43mnp\u001B[49m\u001B[38;5;241;43m.\u001B[39;49m\u001B[43marray\u001B[49m\u001B[43m(\u001B[49m\u001B[43mnp\u001B[49m\u001B[38;5;241;43m.\u001B[39;49m\u001B[43marange\u001B[49m\u001B[43m(\u001B[49m\u001B[38;5;28;43mlen\u001B[39;49m\u001B[43m(\u001B[49m\u001B[43mx\u001B[49m\u001B[43m)\u001B[49m\u001B[43m)\u001B[49m\u001B[43m)\u001B[49m\u001B[43m,\u001B[49m\u001B[43m \u001B[49m\u001B[43msubsample_cols\u001B[49m\u001B[43m,\u001B[49m\u001B[43m \u001B[49m\u001B[43mmin_leaf\u001B[49m\u001B[43m,\u001B[49m\u001B[43m \u001B[49m\u001B[43mmin_child_weight\u001B[49m\u001B[43m,\u001B[49m\n\u001B[0;32m    135\u001B[0m \u001B[43m                      \u001B[49m\u001B[43mdepth\u001B[49m\u001B[43m,\u001B[49m\u001B[43m \u001B[49m\u001B[43mlambda_\u001B[49m\u001B[43m,\u001B[49m\u001B[43m \u001B[49m\u001B[43mgamma\u001B[49m\u001B[43m,\u001B[49m\u001B[43m \u001B[49m\u001B[43meps\u001B[49m\u001B[43m)\u001B[49m\n\u001B[0;32m    136\u001B[0m     \u001B[38;5;28;01mreturn\u001B[39;00m \u001B[38;5;28mself\u001B[39m\n",
      "File \u001B[1;32mD:\\Predict-employee-attrition-rate\\Method\\GradientBoost.py:28\u001B[0m, in \u001B[0;36mNode.__init__\u001B[1;34m(self, x, gradient, hessian, idxs, subsample_cols, min_leaf, min_child_weight, depth, lambda_, gamma, eps)\u001B[0m\n\u001B[0;32m     25\u001B[0m \u001B[38;5;28mself\u001B[39m\u001B[38;5;241m.\u001B[39mval \u001B[38;5;241m=\u001B[39m \u001B[38;5;28mself\u001B[39m\u001B[38;5;241m.\u001B[39mcompute_gamma(\u001B[38;5;28mself\u001B[39m\u001B[38;5;241m.\u001B[39mgradient[\u001B[38;5;28mself\u001B[39m\u001B[38;5;241m.\u001B[39midxs], \u001B[38;5;28mself\u001B[39m\u001B[38;5;241m.\u001B[39mhessian[\u001B[38;5;28mself\u001B[39m\u001B[38;5;241m.\u001B[39midxs])\n\u001B[0;32m     27\u001B[0m \u001B[38;5;28mself\u001B[39m\u001B[38;5;241m.\u001B[39mscore \u001B[38;5;241m=\u001B[39m \u001B[38;5;28mfloat\u001B[39m(\u001B[38;5;124m'\u001B[39m\u001B[38;5;124m-inf\u001B[39m\u001B[38;5;124m'\u001B[39m)\n\u001B[1;32m---> 28\u001B[0m \u001B[38;5;28;43mself\u001B[39;49m\u001B[38;5;241;43m.\u001B[39;49m\u001B[43mfind_varsplit\u001B[49m\u001B[43m(\u001B[49m\u001B[43m)\u001B[49m\n",
      "File \u001B[1;32mD:\\Predict-employee-attrition-rate\\Method\\GradientBoost.py:39\u001B[0m, in \u001B[0;36mNode.find_varsplit\u001B[1;34m(self)\u001B[0m\n\u001B[0;32m     37\u001B[0m lhs \u001B[38;5;241m=\u001B[39m np\u001B[38;5;241m.\u001B[39mnonzero(x \u001B[38;5;241m<\u001B[39m\u001B[38;5;241m=\u001B[39m \u001B[38;5;28mself\u001B[39m\u001B[38;5;241m.\u001B[39msplit)[\u001B[38;5;241m0\u001B[39m]\n\u001B[0;32m     38\u001B[0m rhs \u001B[38;5;241m=\u001B[39m np\u001B[38;5;241m.\u001B[39mnonzero(x \u001B[38;5;241m>\u001B[39m \u001B[38;5;28mself\u001B[39m\u001B[38;5;241m.\u001B[39msplit)[\u001B[38;5;241m0\u001B[39m]\n\u001B[1;32m---> 39\u001B[0m \u001B[38;5;28mself\u001B[39m\u001B[38;5;241m.\u001B[39mlhs \u001B[38;5;241m=\u001B[39m \u001B[43mNode\u001B[49m\u001B[43m(\u001B[49m\u001B[43mx\u001B[49m\u001B[38;5;241;43m=\u001B[39;49m\u001B[38;5;28;43mself\u001B[39;49m\u001B[38;5;241;43m.\u001B[39;49m\u001B[43mx\u001B[49m\u001B[43m,\u001B[49m\u001B[43m \u001B[49m\u001B[43mgradient\u001B[49m\u001B[38;5;241;43m=\u001B[39;49m\u001B[38;5;28;43mself\u001B[39;49m\u001B[38;5;241;43m.\u001B[39;49m\u001B[43mgradient\u001B[49m\u001B[43m,\u001B[49m\u001B[43m \u001B[49m\u001B[43mhessian\u001B[49m\u001B[38;5;241;43m=\u001B[39;49m\u001B[38;5;28;43mself\u001B[39;49m\u001B[38;5;241;43m.\u001B[39;49m\u001B[43mhessian\u001B[49m\u001B[43m,\u001B[49m\u001B[43m \u001B[49m\u001B[43midxs\u001B[49m\u001B[38;5;241;43m=\u001B[39;49m\u001B[38;5;28;43mself\u001B[39;49m\u001B[38;5;241;43m.\u001B[39;49m\u001B[43midxs\u001B[49m\u001B[43m[\u001B[49m\u001B[43mlhs\u001B[49m\u001B[43m]\u001B[49m\u001B[43m,\u001B[49m\n\u001B[0;32m     40\u001B[0m \u001B[43m                \u001B[49m\u001B[43mmin_leaf\u001B[49m\u001B[38;5;241;43m=\u001B[39;49m\u001B[38;5;28;43mself\u001B[39;49m\u001B[38;5;241;43m.\u001B[39;49m\u001B[43mmin_leaf\u001B[49m\u001B[43m,\u001B[49m\u001B[43m \u001B[49m\u001B[43mdepth\u001B[49m\u001B[38;5;241;43m=\u001B[39;49m\u001B[38;5;28;43mself\u001B[39;49m\u001B[38;5;241;43m.\u001B[39;49m\u001B[43mdepth\u001B[49m\u001B[43m \u001B[49m\u001B[38;5;241;43m-\u001B[39;49m\u001B[43m \u001B[49m\u001B[38;5;241;43m1\u001B[39;49m\u001B[43m,\u001B[49m\u001B[43m \u001B[49m\u001B[43mlambda_\u001B[49m\u001B[38;5;241;43m=\u001B[39;49m\u001B[38;5;28;43mself\u001B[39;49m\u001B[38;5;241;43m.\u001B[39;49m\u001B[43mlambda_\u001B[49m\u001B[43m,\u001B[49m\u001B[43m \u001B[49m\u001B[43mgamma\u001B[49m\u001B[38;5;241;43m=\u001B[39;49m\u001B[38;5;28;43mself\u001B[39;49m\u001B[38;5;241;43m.\u001B[39;49m\u001B[43mgamma\u001B[49m\u001B[43m,\u001B[49m\n\u001B[0;32m     41\u001B[0m \u001B[43m                \u001B[49m\u001B[43mmin_child_weight\u001B[49m\u001B[38;5;241;43m=\u001B[39;49m\u001B[38;5;28;43mself\u001B[39;49m\u001B[38;5;241;43m.\u001B[39;49m\u001B[43mmin_child_weight\u001B[49m\u001B[43m,\u001B[49m\u001B[43m \u001B[49m\u001B[43meps\u001B[49m\u001B[38;5;241;43m=\u001B[39;49m\u001B[38;5;28;43mself\u001B[39;49m\u001B[38;5;241;43m.\u001B[39;49m\u001B[43meps\u001B[49m\u001B[43m,\u001B[49m\u001B[43m \u001B[49m\u001B[43msubsample_cols\u001B[49m\u001B[38;5;241;43m=\u001B[39;49m\u001B[38;5;28;43mself\u001B[39;49m\u001B[38;5;241;43m.\u001B[39;49m\u001B[43msubsample_cols\u001B[49m\u001B[43m)\u001B[49m\n\u001B[0;32m     42\u001B[0m \u001B[38;5;28mself\u001B[39m\u001B[38;5;241m.\u001B[39mrhs \u001B[38;5;241m=\u001B[39m Node(x\u001B[38;5;241m=\u001B[39m\u001B[38;5;28mself\u001B[39m\u001B[38;5;241m.\u001B[39mx, gradient\u001B[38;5;241m=\u001B[39m\u001B[38;5;28mself\u001B[39m\u001B[38;5;241m.\u001B[39mgradient, hessian\u001B[38;5;241m=\u001B[39m\u001B[38;5;28mself\u001B[39m\u001B[38;5;241m.\u001B[39mhessian, idxs\u001B[38;5;241m=\u001B[39m\u001B[38;5;28mself\u001B[39m\u001B[38;5;241m.\u001B[39midxs[rhs],\n\u001B[0;32m     43\u001B[0m                 min_leaf\u001B[38;5;241m=\u001B[39m\u001B[38;5;28mself\u001B[39m\u001B[38;5;241m.\u001B[39mmin_leaf, depth\u001B[38;5;241m=\u001B[39m\u001B[38;5;28mself\u001B[39m\u001B[38;5;241m.\u001B[39mdepth \u001B[38;5;241m-\u001B[39m \u001B[38;5;241m1\u001B[39m, lambda_\u001B[38;5;241m=\u001B[39m\u001B[38;5;28mself\u001B[39m\u001B[38;5;241m.\u001B[39mlambda_, gamma\u001B[38;5;241m=\u001B[39m\u001B[38;5;28mself\u001B[39m\u001B[38;5;241m.\u001B[39mgamma,\n\u001B[0;32m     44\u001B[0m                 min_child_weight\u001B[38;5;241m=\u001B[39m\u001B[38;5;28mself\u001B[39m\u001B[38;5;241m.\u001B[39mmin_child_weight, eps\u001B[38;5;241m=\u001B[39m\u001B[38;5;28mself\u001B[39m\u001B[38;5;241m.\u001B[39meps, subsample_cols\u001B[38;5;241m=\u001B[39m\u001B[38;5;28mself\u001B[39m\u001B[38;5;241m.\u001B[39msubsample_cols)\n",
      "File \u001B[1;32mD:\\Predict-employee-attrition-rate\\Method\\GradientBoost.py:28\u001B[0m, in \u001B[0;36mNode.__init__\u001B[1;34m(self, x, gradient, hessian, idxs, subsample_cols, min_leaf, min_child_weight, depth, lambda_, gamma, eps)\u001B[0m\n\u001B[0;32m     25\u001B[0m \u001B[38;5;28mself\u001B[39m\u001B[38;5;241m.\u001B[39mval \u001B[38;5;241m=\u001B[39m \u001B[38;5;28mself\u001B[39m\u001B[38;5;241m.\u001B[39mcompute_gamma(\u001B[38;5;28mself\u001B[39m\u001B[38;5;241m.\u001B[39mgradient[\u001B[38;5;28mself\u001B[39m\u001B[38;5;241m.\u001B[39midxs], \u001B[38;5;28mself\u001B[39m\u001B[38;5;241m.\u001B[39mhessian[\u001B[38;5;28mself\u001B[39m\u001B[38;5;241m.\u001B[39midxs])\n\u001B[0;32m     27\u001B[0m \u001B[38;5;28mself\u001B[39m\u001B[38;5;241m.\u001B[39mscore \u001B[38;5;241m=\u001B[39m \u001B[38;5;28mfloat\u001B[39m(\u001B[38;5;124m'\u001B[39m\u001B[38;5;124m-inf\u001B[39m\u001B[38;5;124m'\u001B[39m)\n\u001B[1;32m---> 28\u001B[0m \u001B[38;5;28;43mself\u001B[39;49m\u001B[38;5;241;43m.\u001B[39;49m\u001B[43mfind_varsplit\u001B[49m\u001B[43m(\u001B[49m\u001B[43m)\u001B[49m\n",
      "File \u001B[1;32mD:\\Predict-employee-attrition-rate\\Method\\GradientBoost.py:34\u001B[0m, in \u001B[0;36mNode.find_varsplit\u001B[1;34m(self)\u001B[0m\n\u001B[0;32m     33\u001B[0m \u001B[38;5;28;01mdef\u001B[39;00m \u001B[38;5;21mfind_varsplit\u001B[39m(\u001B[38;5;28mself\u001B[39m):\n\u001B[1;32m---> 34\u001B[0m     \u001B[38;5;28;01mfor\u001B[39;00m c \u001B[38;5;129;01min\u001B[39;00m \u001B[38;5;28mself\u001B[39m\u001B[38;5;241m.\u001B[39mcolumn_subsample: \u001B[38;5;28;43mself\u001B[39;49m\u001B[38;5;241;43m.\u001B[39;49m\u001B[43mfind_greedy_split\u001B[49m\u001B[43m(\u001B[49m\u001B[43mc\u001B[49m\u001B[43m)\u001B[49m\n\u001B[0;32m     35\u001B[0m     \u001B[38;5;28;01mif\u001B[39;00m \u001B[38;5;28mself\u001B[39m\u001B[38;5;241m.\u001B[39mis_leaf: \u001B[38;5;28;01mreturn\u001B[39;00m\n\u001B[0;32m     36\u001B[0m     x \u001B[38;5;241m=\u001B[39m \u001B[38;5;28mself\u001B[39m\u001B[38;5;241m.\u001B[39msplit_col\n",
      "File \u001B[1;32mD:\\Predict-employee-attrition-rate\\Method\\GradientBoost.py:59\u001B[0m, in \u001B[0;36mNode.find_greedy_split\u001B[1;34m(self, var_idx)\u001B[0m\n\u001B[0;32m     55\u001B[0m \u001B[38;5;28;01mif\u001B[39;00m (rhs\u001B[38;5;241m.\u001B[39msum() \u001B[38;5;241m<\u001B[39m \u001B[38;5;28mself\u001B[39m\u001B[38;5;241m.\u001B[39mmin_leaf \u001B[38;5;129;01mor\u001B[39;00m lhs\u001B[38;5;241m.\u001B[39msum() \u001B[38;5;241m<\u001B[39m \u001B[38;5;28mself\u001B[39m\u001B[38;5;241m.\u001B[39mmin_leaf\n\u001B[0;32m     56\u001B[0m         \u001B[38;5;129;01mor\u001B[39;00m \u001B[38;5;28mself\u001B[39m\u001B[38;5;241m.\u001B[39mhessian[lhs_indices]\u001B[38;5;241m.\u001B[39msum() \u001B[38;5;241m<\u001B[39m \u001B[38;5;28mself\u001B[39m\u001B[38;5;241m.\u001B[39mmin_child_weight\n\u001B[0;32m     57\u001B[0m         \u001B[38;5;129;01mor\u001B[39;00m \u001B[38;5;28mself\u001B[39m\u001B[38;5;241m.\u001B[39mhessian[rhs_indices]\u001B[38;5;241m.\u001B[39msum() \u001B[38;5;241m<\u001B[39m \u001B[38;5;28mself\u001B[39m\u001B[38;5;241m.\u001B[39mmin_child_weight): \u001B[38;5;28;01mcontinue\u001B[39;00m\n\u001B[1;32m---> 59\u001B[0m curr_score \u001B[38;5;241m=\u001B[39m \u001B[38;5;28;43mself\u001B[39;49m\u001B[38;5;241;43m.\u001B[39;49m\u001B[43mgain\u001B[49m\u001B[43m(\u001B[49m\u001B[43mlhs\u001B[49m\u001B[43m,\u001B[49m\u001B[43m \u001B[49m\u001B[43mrhs\u001B[49m\u001B[43m)\u001B[49m\n\u001B[0;32m     60\u001B[0m \u001B[38;5;28;01mif\u001B[39;00m curr_score \u001B[38;5;241m>\u001B[39m \u001B[38;5;28mself\u001B[39m\u001B[38;5;241m.\u001B[39mscore:\n\u001B[0;32m     61\u001B[0m     \u001B[38;5;28mself\u001B[39m\u001B[38;5;241m.\u001B[39mvar_idx \u001B[38;5;241m=\u001B[39m var_idx\n",
      "File \u001B[1;32mD:\\Predict-employee-attrition-rate\\Method\\GradientBoost.py:101\u001B[0m, in \u001B[0;36mNode.gain\u001B[1;34m(self, lhs, rhs)\u001B[0m\n\u001B[0;32m     98\u001B[0m hessian \u001B[38;5;241m=\u001B[39m \u001B[38;5;28mself\u001B[39m\u001B[38;5;241m.\u001B[39mhessian[\u001B[38;5;28mself\u001B[39m\u001B[38;5;241m.\u001B[39midxs]\n\u001B[0;32m    100\u001B[0m lhs_gradient \u001B[38;5;241m=\u001B[39m gradient[lhs]\u001B[38;5;241m.\u001B[39msum()\n\u001B[1;32m--> 101\u001B[0m lhs_hessian \u001B[38;5;241m=\u001B[39m \u001B[43mhessian\u001B[49m\u001B[43m[\u001B[49m\u001B[43mlhs\u001B[49m\u001B[43m]\u001B[49m\u001B[38;5;241;43m.\u001B[39;49m\u001B[43msum\u001B[49m\u001B[43m(\u001B[49m\u001B[43m)\u001B[49m\n\u001B[0;32m    103\u001B[0m rhs_gradient \u001B[38;5;241m=\u001B[39m gradient[rhs]\u001B[38;5;241m.\u001B[39msum()\n\u001B[0;32m    104\u001B[0m rhs_hessian \u001B[38;5;241m=\u001B[39m hessian[rhs]\u001B[38;5;241m.\u001B[39msum()\n",
      "File \u001B[1;32m~\\AppData\\Local\\Packages\\PythonSoftwareFoundation.Python.3.11_qbz5n2kfra8p0\\LocalCache\\local-packages\\Python311\\site-packages\\numpy\\core\\_methods.py:47\u001B[0m, in \u001B[0;36m_sum\u001B[1;34m(a, axis, dtype, out, keepdims, initial, where)\u001B[0m\n\u001B[0;32m     43\u001B[0m \u001B[38;5;28;01mdef\u001B[39;00m \u001B[38;5;21m_amin\u001B[39m(a, axis\u001B[38;5;241m=\u001B[39m\u001B[38;5;28;01mNone\u001B[39;00m, out\u001B[38;5;241m=\u001B[39m\u001B[38;5;28;01mNone\u001B[39;00m, keepdims\u001B[38;5;241m=\u001B[39m\u001B[38;5;28;01mFalse\u001B[39;00m,\n\u001B[0;32m     44\u001B[0m           initial\u001B[38;5;241m=\u001B[39m_NoValue, where\u001B[38;5;241m=\u001B[39m\u001B[38;5;28;01mTrue\u001B[39;00m):\n\u001B[0;32m     45\u001B[0m     \u001B[38;5;28;01mreturn\u001B[39;00m umr_minimum(a, axis, \u001B[38;5;28;01mNone\u001B[39;00m, out, keepdims, initial, where)\n\u001B[1;32m---> 47\u001B[0m \u001B[38;5;28;01mdef\u001B[39;00m \u001B[38;5;21m_sum\u001B[39m(a, axis\u001B[38;5;241m=\u001B[39m\u001B[38;5;28;01mNone\u001B[39;00m, dtype\u001B[38;5;241m=\u001B[39m\u001B[38;5;28;01mNone\u001B[39;00m, out\u001B[38;5;241m=\u001B[39m\u001B[38;5;28;01mNone\u001B[39;00m, keepdims\u001B[38;5;241m=\u001B[39m\u001B[38;5;28;01mFalse\u001B[39;00m,\n\u001B[0;32m     48\u001B[0m          initial\u001B[38;5;241m=\u001B[39m_NoValue, where\u001B[38;5;241m=\u001B[39m\u001B[38;5;28;01mTrue\u001B[39;00m):\n\u001B[0;32m     49\u001B[0m     \u001B[38;5;28;01mreturn\u001B[39;00m umr_sum(a, axis, dtype, out, keepdims, initial, where)\n\u001B[0;32m     51\u001B[0m \u001B[38;5;28;01mdef\u001B[39;00m \u001B[38;5;21m_prod\u001B[39m(a, axis\u001B[38;5;241m=\u001B[39m\u001B[38;5;28;01mNone\u001B[39;00m, dtype\u001B[38;5;241m=\u001B[39m\u001B[38;5;28;01mNone\u001B[39;00m, out\u001B[38;5;241m=\u001B[39m\u001B[38;5;28;01mNone\u001B[39;00m, keepdims\u001B[38;5;241m=\u001B[39m\u001B[38;5;28;01mFalse\u001B[39;00m,\n\u001B[0;32m     52\u001B[0m           initial\u001B[38;5;241m=\u001B[39m_NoValue, where\u001B[38;5;241m=\u001B[39m\u001B[38;5;28;01mTrue\u001B[39;00m):\n",
      "\u001B[1;31mKeyboardInterrupt\u001B[0m: "
     ]
    }
   ],
   "execution_count": 12
  },
  {
   "metadata": {},
   "cell_type": "code",
   "source": [
    "def save_model(model, filename):\n",
    "    with open(filename, 'wb') as f:\n",
    "        pickle.dump(model, f)\n",
    "save_model(final_model, 'final_model.pkl')"
   ],
   "id": "36ff3da875d94d45",
   "outputs": [],
   "execution_count": null
  },
  {
   "metadata": {
    "ExecuteTime": {
     "end_time": "2024-12-05T14:28:37.449335Z",
     "start_time": "2024-12-05T14:28:37.398570Z"
    }
   },
   "cell_type": "code",
   "source": [
    "def load_model(filename):\n",
    "    with open(filename, 'rb') as f:\n",
    "        return pickle.load(f)\n",
    "loaded_model = load_model('final_model.pkl')"
   ],
   "id": "91f7a0f18d3eece",
   "outputs": [
    {
     "ename": "ModuleNotFoundError",
     "evalue": "No module named 'GradientBoost'",
     "output_type": "error",
     "traceback": [
      "\u001B[1;31m---------------------------------------------------------------------------\u001B[0m",
      "\u001B[1;31mModuleNotFoundError\u001B[0m                       Traceback (most recent call last)",
      "Cell \u001B[1;32mIn[13], line 4\u001B[0m\n\u001B[0;32m      2\u001B[0m     \u001B[38;5;28;01mwith\u001B[39;00m \u001B[38;5;28mopen\u001B[39m(filename, \u001B[38;5;124m'\u001B[39m\u001B[38;5;124mrb\u001B[39m\u001B[38;5;124m'\u001B[39m) \u001B[38;5;28;01mas\u001B[39;00m f:\n\u001B[0;32m      3\u001B[0m         \u001B[38;5;28;01mreturn\u001B[39;00m pickle\u001B[38;5;241m.\u001B[39mload(f)\n\u001B[1;32m----> 4\u001B[0m loaded_model \u001B[38;5;241m=\u001B[39m \u001B[43mload_model\u001B[49m\u001B[43m(\u001B[49m\u001B[38;5;124;43m'\u001B[39;49m\u001B[38;5;124;43mfinal_model.pkl\u001B[39;49m\u001B[38;5;124;43m'\u001B[39;49m\u001B[43m)\u001B[49m\n",
      "Cell \u001B[1;32mIn[13], line 3\u001B[0m, in \u001B[0;36mload_model\u001B[1;34m(filename)\u001B[0m\n\u001B[0;32m      1\u001B[0m \u001B[38;5;28;01mdef\u001B[39;00m \u001B[38;5;21mload_model\u001B[39m(filename):\n\u001B[0;32m      2\u001B[0m     \u001B[38;5;28;01mwith\u001B[39;00m \u001B[38;5;28mopen\u001B[39m(filename, \u001B[38;5;124m'\u001B[39m\u001B[38;5;124mrb\u001B[39m\u001B[38;5;124m'\u001B[39m) \u001B[38;5;28;01mas\u001B[39;00m f:\n\u001B[1;32m----> 3\u001B[0m         \u001B[38;5;28;01mreturn\u001B[39;00m \u001B[43mpickle\u001B[49m\u001B[38;5;241;43m.\u001B[39;49m\u001B[43mload\u001B[49m\u001B[43m(\u001B[49m\u001B[43mf\u001B[49m\u001B[43m)\u001B[49m\n",
      "\u001B[1;31mModuleNotFoundError\u001B[0m: No module named 'GradientBoost'"
     ]
    }
   ],
   "execution_count": 13
  },
  {
   "metadata": {},
   "cell_type": "code",
   "source": [
    "y_pred_val = loaded_model.predict(X_val)\n",
    "rmse = mean_squared_error(y_val, y_pred_val, squared=False)\n",
    "print(f\"RMSE on validation set (loaded model): {rmse}\")"
   ],
   "id": "48ad035c8651de30",
   "outputs": [],
   "execution_count": null
  },
  {
   "metadata": {},
   "cell_type": "markdown",
   "source": "Feature Importance",
   "id": "f602bded0987d15"
  },
  {
   "metadata": {},
   "cell_type": "code",
   "source": [
    "feature_names = list(train_data.columns[:-1])\n",
    "feature_names"
   ],
   "id": "d93d3545cae2fd6c",
   "outputs": [],
   "execution_count": null
  },
  {
   "metadata": {},
   "cell_type": "code",
   "source": [
    "test_data = pd.read_csv(\"Processed Data/test.csv\")\n",
    "X_test = test_data.values\n",
    "y_pred_test = loaded_model.predict(X_test)\n",
    "test_data['Attrition_rate'] = y_pred_test\n",
    "test_data.to_csv('test_predictions_final.csv', index=False)"
   ],
   "id": "5ceb6a3f1d134a9f",
   "outputs": [],
   "execution_count": null
  },
  {
   "metadata": {},
   "cell_type": "code",
   "source": [
    "feature_importances_weight = loaded_model.get_feature_importance(importance_type='weight')\n",
    "feature_importances_gain = loaded_model.get_feature_importance(importance_type='gain')\n",
    "\n",
    "feature_importances_weight_sorted = dict(sorted(feature_importances_weight.items(), key=lambda item: item[1], reverse=True))\n",
    "feature_importances_gain_sorted = dict(sorted(feature_importances_gain.items(), key=lambda item: item[1], reverse=True))"
   ],
   "id": "fd6c658204b2357",
   "outputs": [],
   "execution_count": null
  },
  {
   "metadata": {},
   "cell_type": "markdown",
   "source": "Plotting Feature Importances (Weight)",
   "id": "d457d8b0d4df1d16"
  },
  {
   "metadata": {},
   "cell_type": "code",
   "source": [
    "features_weight = list(feature_importances_weight_sorted.keys())\n",
    "importances_weight = list(feature_importances_weight_sorted.values())\n",
    "plt.figure(figsize=(10, 6))\n",
    "plt.barh(range(len(features_weight)), importances_weight, align='center')\n",
    "plt.yticks(np.arange(len(features_weight)), [feature_names[i] for i in features_weight])\n",
    "plt.xlabel('Feature Importance (Weight)')\n",
    "plt.title('Feature Importance (Weight)')\n",
    "plt.tight_layout()\n",
    "plt.show()"
   ],
   "id": "bfbc31c9acf87402",
   "outputs": [],
   "execution_count": null
  },
  {
   "metadata": {},
   "cell_type": "markdown",
   "source": "Plotting Feature Importances (Gain)",
   "id": "d575ace3dc5ac19d"
  },
  {
   "metadata": {},
   "cell_type": "code",
   "source": [
    "features_gain = list(feature_importances_gain_sorted.keys())\n",
    "importances_gain = list(feature_importances_gain_sorted.values())\n",
    "\n",
    "plt.figure(figsize=(10, 6))\n",
    "plt.barh(range(len(features_gain)), importances_gain, align='center')\n",
    "plt.yticks(np.arange(len(features_gain)), [feature_names[i] for i in features_gain])\n",
    "plt.xlabel('Feature Importance (Gain)')\n",
    "plt.title('Feature Importance (Gain)')\n",
    "plt.tight_layout()\n",
    "plt.show()"
   ],
   "id": "940349d3569cac78",
   "outputs": [],
   "execution_count": null
  },
  {
   "metadata": {},
   "cell_type": "markdown",
   "source": "Biểu đồ phân phối lỗi (Residual Distribution)",
   "id": "6efe98485d1fac3c"
  },
  {
   "metadata": {},
   "cell_type": "code",
   "source": [
    "y_pred_val = loaded_model.predict(X_val)\n",
    "residuals_val = y_val - y_pred_val\n",
    "\n",
    "plt.figure(figsize=(8, 6))\n",
    "count, bins, _ = plt.hist(residuals_val, bins=30, alpha=0.7, color='blue', density=True, label='Histogram')\n",
    "\n",
    "from scipy.stats import gaussian_kde\n",
    "kde = gaussian_kde(residuals_val)\n",
    "x_vals = np.linspace(min(bins), max(bins), 1000)\n",
    "plt.plot(x_vals, kde(x_vals), color='red', label='KDE')\n",
    "\n",
    "\n",
    "plt.title('Residual Distribution (Validation Data)')\n",
    "plt.xlabel('Residuals')\n",
    "plt.ylabel('Density')\n",
    "plt.legend()\n",
    "plt.show()\n"
   ],
   "id": "eb943f7610780ff3",
   "outputs": [],
   "execution_count": null
  },
  {
   "metadata": {},
   "cell_type": "markdown",
   "source": "Biểu đồ thực tế vs dự đoán",
   "id": "ebc909cd2893bfe7"
  },
  {
   "metadata": {},
   "cell_type": "code",
   "source": [
    "from sklearn.preprocessing import LabelEncoder\n",
    "\n",
    "for col in train_data.select_dtypes(include=['object']).columns:\n",
    "    train_data[col] = LabelEncoder().fit_transform(train_data[col])\n",
    "\n",
    "corr_matrix = train_data.corr()\n",
    "\n",
    "plt.figure(figsize=(15, 15))\n",
    "sns.heatmap(corr_matrix, annot=True, cmap='coolwarm', fmt=\".2f\")\n",
    "plt.title('Correlation Matrix (with Encoded Features)')\n",
    "plt.show()\n"
   ],
   "id": "b139c8fae4208b41",
   "outputs": [],
   "execution_count": null
  },
  {
   "metadata": {},
   "cell_type": "markdown",
   "source": "Correlation Heatmap",
   "id": "49d8364d196f5f28"
  },
  {
   "metadata": {},
   "cell_type": "code",
   "source": [
    "corr_matrix = train_data.corr()\n",
    "plt.figure(figsize=(10, 8))\n",
    "seaborn.heatmap(corr_matrix, annot=True, cmap='coolwarm', fmt=\".2f\")\n",
    "plt.title('Correlation Heatmap')\n",
    "plt.tight_layout()\n",
    "plt.show()"
   ],
   "id": "778ec8d6f796f979",
   "outputs": [],
   "execution_count": null
  },
  {
   "metadata": {},
   "cell_type": "markdown",
   "source": "Biểu đồ xu hướng nghỉ việc (Đang lỗi)",
   "id": "96bb72e2b1c1bb35"
  },
  {
   "metadata": {},
   "cell_type": "code",
   "source": "test_predictions = pd.read_csv(\"test_predictions_final.csv\")",
   "id": "3781be3995bd6f2b",
   "outputs": [],
   "execution_count": null
  },
  {
   "metadata": {},
   "cell_type": "code",
   "source": [
    "time_variables = ['Time_of_service', 'Time_since_promotion', 'growth_rate']\n",
    "\n",
    "\n",
    "for time_var in time_variables:\n",
    "    plt.figure(figsize=(10, 6))\n",
    "\n",
    "\n",
    "    plt.plot(test_predictions[time_var], test_predictions['Attrition_rate'], label='Test Data (Predicted)')\n",
    "\n",
    "    plt.xlabel(time_var)\n",
    "    plt.ylabel('Attrition Rate (Predicted)')\n",
    "    plt.title(f'Attrition Rate Trend vs. {time_var} (Test Data)')\n",
    "    plt.xticks(rotation=45)\n",
    "    plt.legend()\n",
    "    plt.tight_layout()\n",
    "    plt.show()"
   ],
   "id": "9234d170487e48d2",
   "outputs": [],
   "execution_count": null
  }
 ],
 "metadata": {
  "kernelspec": {
   "display_name": "Python 3",
   "language": "python",
   "name": "python3"
  },
  "language_info": {
   "codemirror_mode": {
    "name": "ipython",
    "version": 2
   },
   "file_extension": ".py",
   "mimetype": "text/x-python",
   "name": "python",
   "nbconvert_exporter": "python",
   "pygments_lexer": "ipython2",
   "version": "2.7.6"
  }
 },
 "nbformat": 4,
 "nbformat_minor": 5
}
