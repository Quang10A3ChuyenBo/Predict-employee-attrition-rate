{
 "cells": [
  {
   "cell_type": "code",
   "id": "initial_id",
   "metadata": {
    "collapsed": true,
    "ExecuteTime": {
     "end_time": "2024-12-03T15:27:52.162230Z",
     "start_time": "2024-12-03T15:27:52.136812Z"
    }
   },
   "source": [
    "import pandas as pd\n",
    "import numpy as np\n",
    "from sklearn.model_selection import KFold, train_test_split\n",
    "from sklearn.metrics import mean_squared_error\n",
    "import pickle\n",
    "from math import e\n",
    "from collections import Counter\n",
    "from Method.GradientBoost import XGBoostRegressor as xgb\n",
    "from Method.DecisionTree import DecisionTree"
   ],
   "outputs": [],
   "execution_count": 3
  },
  {
   "cell_type": "code",
   "id": "679b8594f8ecd1f6",
   "metadata": {
    "ExecuteTime": {
     "end_time": "2024-12-03T15:27:52.254487Z",
     "start_time": "2024-12-03T15:27:52.181525Z"
    }
   },
   "source": [
    "train_data = pd.read_csv(\"Processed Data/train.csv\")\n",
    "validation_data = pd.read_csv(\"Processed Data/validation.csv\")"
   ],
   "outputs": [],
   "execution_count": 4
  },
  {
   "cell_type": "code",
   "id": "8ccc12fca9d37717",
   "metadata": {
    "ExecuteTime": {
     "end_time": "2024-12-03T15:27:52.324073Z",
     "start_time": "2024-12-03T15:27:52.310706Z"
    }
   },
   "source": [
    "X_train = train_data.drop(columns=['Attrition_rate']).values\n",
    "y_train = train_data['Attrition_rate'].values"
   ],
   "outputs": [],
   "execution_count": 5
  },
  {
   "cell_type": "code",
   "id": "d641e3e5c9610e2b",
   "metadata": {
    "ExecuteTime": {
     "end_time": "2024-12-03T15:49:37.967998Z",
     "start_time": "2024-12-03T15:27:52.346316Z"
    }
   },
   "source": [
    "model = xgb()\n",
    "model.fit(X_train, y_train)"
   ],
   "outputs": [],
   "execution_count": 6
  },
  {
   "metadata": {
    "ExecuteTime": {
     "end_time": "2024-12-03T15:51:16.370325Z",
     "start_time": "2024-12-03T15:51:16.330751Z"
    }
   },
   "cell_type": "code",
   "source": [
    "def save_model(model, filename):\n",
    "    with open(filename, 'wb') as f:\n",
    "        pickle.dump(model, f)\n",
    "save_model(model, 'trained_xgb_model.pkl')"
   ],
   "id": "71234a0051232366",
   "outputs": [],
   "execution_count": 8
  },
  {
   "metadata": {
    "ExecuteTime": {
     "end_time": "2024-12-03T15:51:46.546882Z",
     "start_time": "2024-12-03T15:51:46.521376Z"
    }
   },
   "cell_type": "code",
   "source": [
    "def load_model(filename):\n",
    "    with open(filename, 'rb') as f:\n",
    "        return pickle.load(f)\n",
    "loaded_model = load_model('trained_xgb_model.pkl')"
   ],
   "id": "cdf487512b3d50ca",
   "outputs": [],
   "execution_count": 10
  },
  {
   "metadata": {
    "ExecuteTime": {
     "end_time": "2024-12-03T15:52:01.653641Z",
     "start_time": "2024-12-03T15:52:01.638519Z"
    }
   },
   "cell_type": "code",
   "source": [
    "X_val = validation_data.drop(columns=['Attrition_rate']).values\n",
    "y_val = validation_data['Attrition_rate'].values"
   ],
   "id": "f92b4503452e1f93",
   "outputs": [],
   "execution_count": 11
  },
  {
   "metadata": {
    "ExecuteTime": {
     "end_time": "2024-12-03T15:52:14.053670Z",
     "start_time": "2024-12-03T15:52:13.936822Z"
    }
   },
   "cell_type": "code",
   "source": [
    "y_pred_val = loaded_model.predict(X_val)\n",
    "rmse = mean_squared_error(y_val, y_pred_val, squared=False)\n",
    "print(f\"RMSE on validation set (loaded model): {rmse}\")"
   ],
   "id": "48d748ffe91bcee8",
   "outputs": [
    {
     "name": "stdout",
     "output_type": "stream",
     "text": [
      "RMSE on validation set (loaded model): 0.1807476509770369\n"
     ]
    },
    {
     "name": "stderr",
     "output_type": "stream",
     "text": [
      "C:\\Users\\HP\\AppData\\Local\\Packages\\PythonSoftwareFoundation.Python.3.11_qbz5n2kfra8p0\\LocalCache\\local-packages\\Python311\\site-packages\\sklearn\\metrics\\_regression.py:492: FutureWarning: 'squared' is deprecated in version 1.4 and will be removed in 1.6. To calculate the root mean squared error, use the function'root_mean_squared_error'.\n",
      "  warnings.warn(\n"
     ]
    }
   ],
   "execution_count": 12
  },
  {
   "cell_type": "code",
   "id": "153ac2e7b40b104c",
   "metadata": {
    "ExecuteTime": {
     "end_time": "2024-12-03T15:52:14.091037Z",
     "start_time": "2024-12-03T15:52:14.062650Z"
    }
   },
   "source": [
    "test_data = pd.read_csv(\"Processed Data/test.csv\")\n",
    "X_test = test_data.values"
   ],
   "outputs": [],
   "execution_count": 13
  },
  {
   "cell_type": "code",
   "id": "cb8e72470011007b",
   "metadata": {
    "ExecuteTime": {
     "end_time": "2024-12-03T15:52:14.221178Z",
     "start_time": "2024-12-03T15:52:14.147731Z"
    }
   },
   "source": [
    "y_pred_test = model.predict(X_test)"
   ],
   "outputs": [],
   "execution_count": 14
  },
  {
   "cell_type": "code",
   "id": "4135ae37a0aeb5cc",
   "metadata": {
    "ExecuteTime": {
     "end_time": "2024-12-03T15:52:14.344793Z",
     "start_time": "2024-12-03T15:52:14.263171Z"
    }
   },
   "source": [
    "test_data['Attrition_rate'] = y_pred_test\n",
    "test_data.to_csv('test_predictions.csv', index=False)"
   ],
   "outputs": [],
   "execution_count": 15
  },
  {
   "cell_type": "markdown",
   "id": "ed100cae0b4fd67",
   "metadata": {},
   "source": [
    "Cross Validation"
   ]
  },
  {
   "cell_type": "code",
   "id": "f15bd35a925d277c",
   "metadata": {
    "ExecuteTime": {
     "end_time": "2024-12-03T15:52:14.392602Z",
     "start_time": "2024-12-03T15:52:14.382830Z"
    }
   },
   "source": [
    "def cross_validation(X_train, y_train, X_val, y_val, n_splits=5, **kwargs):\n",
    "    kf = KFold(n_splits=n_splits, shuffle=True, random_state=42)\n",
    "    cv_rmse_scores = []\n",
    "    val_rmse_scores = []\n",
    "    trained_models = []\n",
    "\n",
    "    for i, (train_index, test_index) in enumerate(kf.split(X_train)):\n",
    "        print(f\"Fold {i+1}:\")\n",
    "        X_fold_train, X_fold_test = X_train[train_index], X_train[test_index]\n",
    "        y_fold_train, y_fold_test = y_train[train_index], y_train[test_index]\n",
    "\n",
    "        model = xgb()\n",
    "        model.fit(X_fold_train, y_fold_train, **kwargs)\n",
    "\n",
    "        y_pred_fold_test = model.predict(X_fold_test)\n",
    "        cv_rmse = mean_squared_error(y_fold_test, y_pred_fold_test, squared=False)\n",
    "        cv_rmse_scores.append(cv_rmse)\n",
    "\n",
    "        y_pred_val = model.predict(X_val)\n",
    "        val_rmse = mean_squared_error(y_val, y_pred_val, squared=False)\n",
    "        val_rmse_scores.append(val_rmse)\n",
    "        trained_models.append(model)\n",
    "\n",
    "        print(f\"  Training RMSE: {mean_squared_error(y_fold_train, model.predict(X_fold_train), squared=False)}\")\n",
    "        print(f\"  Cross-Validation RMSE: {cv_rmse}\")\n",
    "        print(f\"  Validation RMSE: {val_rmse}\\n\")\n",
    "\n",
    "\n",
    "    avg_cv_rmse = np.mean(cv_rmse_scores)\n",
    "    avg_val_rmse = np.mean(val_rmse_scores)\n",
    "\n",
    "    print(f\"Average Cross-Validation RMSE: {avg_cv_rmse}\")\n",
    "    print(f\"Average Validation RMSE: {avg_val_rmse}\")\n",
    "\n",
    "\n",
    "    best_model_index = np.argmin(val_rmse_scores)\n",
    "    best_model = trained_models[best_model_index]\n",
    "    return avg_val_rmse, best_model, avg_cv_rmse\n"
   ],
   "outputs": [],
   "execution_count": 16
  },
  {
   "cell_type": "code",
   "id": "999c6e1bab28266",
   "metadata": {
    "ExecuteTime": {
     "end_time": "2024-12-03T16:02:17.622555Z",
     "start_time": "2024-12-03T16:02:16.728591Z"
    }
   },
   "source": [
    "params = {\n",
    "    'subsample_cols': 0.8, 'min_child_weight': 1, 'depth': 5, 'min_leaf': 5,\n",
    "    'learning_rate': 0.1, 'boosting_rounds': 20, 'lambda_': 1.5, 'gamma': 1, 'eps': 0.1\n",
    "}\n",
    "\n",
    "avg_val_rmse, best_model, avg_cv_rmse = cross_validation(X_train, y_train, X_val, y_val, n_splits=5, **params)"
   ],
   "outputs": [
    {
     "name": "stdout",
     "output_type": "stream",
     "text": [
      "Fold 1:\n"
     ]
    },
    {
     "ename": "KeyboardInterrupt",
     "evalue": "",
     "output_type": "error",
     "traceback": [
      "\u001B[1;31m---------------------------------------------------------------------------\u001B[0m",
      "\u001B[1;31mKeyboardInterrupt\u001B[0m                         Traceback (most recent call last)",
      "Cell \u001B[1;32mIn[18], line 6\u001B[0m\n\u001B[0;32m      1\u001B[0m params \u001B[38;5;241m=\u001B[39m {\n\u001B[0;32m      2\u001B[0m     \u001B[38;5;124m'\u001B[39m\u001B[38;5;124msubsample_cols\u001B[39m\u001B[38;5;124m'\u001B[39m: \u001B[38;5;241m0.8\u001B[39m, \u001B[38;5;124m'\u001B[39m\u001B[38;5;124mmin_child_weight\u001B[39m\u001B[38;5;124m'\u001B[39m: \u001B[38;5;241m1\u001B[39m, \u001B[38;5;124m'\u001B[39m\u001B[38;5;124mdepth\u001B[39m\u001B[38;5;124m'\u001B[39m: \u001B[38;5;241m5\u001B[39m, \u001B[38;5;124m'\u001B[39m\u001B[38;5;124mmin_leaf\u001B[39m\u001B[38;5;124m'\u001B[39m: \u001B[38;5;241m5\u001B[39m,\n\u001B[0;32m      3\u001B[0m     \u001B[38;5;124m'\u001B[39m\u001B[38;5;124mlearning_rate\u001B[39m\u001B[38;5;124m'\u001B[39m: \u001B[38;5;241m0.1\u001B[39m, \u001B[38;5;124m'\u001B[39m\u001B[38;5;124mboosting_rounds\u001B[39m\u001B[38;5;124m'\u001B[39m: \u001B[38;5;241m100\u001B[39m, \u001B[38;5;124m'\u001B[39m\u001B[38;5;124mlambda_\u001B[39m\u001B[38;5;124m'\u001B[39m: \u001B[38;5;241m1.5\u001B[39m, \u001B[38;5;124m'\u001B[39m\u001B[38;5;124mgamma\u001B[39m\u001B[38;5;124m'\u001B[39m: \u001B[38;5;241m1\u001B[39m, \u001B[38;5;124m'\u001B[39m\u001B[38;5;124meps\u001B[39m\u001B[38;5;124m'\u001B[39m: \u001B[38;5;241m0.1\u001B[39m\n\u001B[0;32m      4\u001B[0m }\n\u001B[1;32m----> 6\u001B[0m avg_val_rmse, best_model, avg_cv_rmse \u001B[38;5;241m=\u001B[39m \u001B[43mcross_validation\u001B[49m\u001B[43m(\u001B[49m\u001B[43mX_train\u001B[49m\u001B[43m,\u001B[49m\u001B[43m \u001B[49m\u001B[43my_train\u001B[49m\u001B[43m,\u001B[49m\u001B[43m \u001B[49m\u001B[43mX_val\u001B[49m\u001B[43m,\u001B[49m\u001B[43m \u001B[49m\u001B[43my_val\u001B[49m\u001B[43m,\u001B[49m\u001B[43m \u001B[49m\u001B[43mn_splits\u001B[49m\u001B[38;5;241;43m=\u001B[39;49m\u001B[38;5;241;43m5\u001B[39;49m\u001B[43m,\u001B[49m\u001B[43m \u001B[49m\u001B[38;5;241;43m*\u001B[39;49m\u001B[38;5;241;43m*\u001B[39;49m\u001B[43mparams\u001B[49m\u001B[43m)\u001B[49m\n",
      "Cell \u001B[1;32mIn[16], line 13\u001B[0m, in \u001B[0;36mcross_validation\u001B[1;34m(X_train, y_train, X_val, y_val, n_splits, **kwargs)\u001B[0m\n\u001B[0;32m     10\u001B[0m y_fold_train, y_fold_test \u001B[38;5;241m=\u001B[39m y_train[train_index], y_train[test_index]\n\u001B[0;32m     12\u001B[0m model \u001B[38;5;241m=\u001B[39m xgb()\n\u001B[1;32m---> 13\u001B[0m \u001B[43mmodel\u001B[49m\u001B[38;5;241;43m.\u001B[39;49m\u001B[43mfit\u001B[49m\u001B[43m(\u001B[49m\u001B[43mX_fold_train\u001B[49m\u001B[43m,\u001B[49m\u001B[43m \u001B[49m\u001B[43my_fold_train\u001B[49m\u001B[43m,\u001B[49m\u001B[43m \u001B[49m\u001B[38;5;241;43m*\u001B[39;49m\u001B[38;5;241;43m*\u001B[39;49m\u001B[43mkwargs\u001B[49m\u001B[43m)\u001B[49m\n\u001B[0;32m     15\u001B[0m y_pred_fold_test \u001B[38;5;241m=\u001B[39m model\u001B[38;5;241m.\u001B[39mpredict(X_fold_test)\n\u001B[0;32m     16\u001B[0m cv_rmse \u001B[38;5;241m=\u001B[39m mean_squared_error(y_fold_test, y_pred_fold_test, squared\u001B[38;5;241m=\u001B[39m\u001B[38;5;28;01mFalse\u001B[39;00m)\n",
      "File \u001B[1;32mD:\\Predict-employee-attrition-rate\\Method\\GradientBoost.py:167\u001B[0m, in \u001B[0;36mXGBoostRegressor.fit\u001B[1;34m(self, X, y, subsample_cols, min_child_weight, depth, min_leaf, learning_rate, boosting_rounds, lambda_, gamma, eps)\u001B[0m\n\u001B[0;32m    165\u001B[0m Grad \u001B[38;5;241m=\u001B[39m \u001B[38;5;28mself\u001B[39m\u001B[38;5;241m.\u001B[39mgrad(\u001B[38;5;28mself\u001B[39m\u001B[38;5;241m.\u001B[39mbase_pred, \u001B[38;5;28mself\u001B[39m\u001B[38;5;241m.\u001B[39my)\n\u001B[0;32m    166\u001B[0m Hess \u001B[38;5;241m=\u001B[39m \u001B[38;5;28mself\u001B[39m\u001B[38;5;241m.\u001B[39mhess(\u001B[38;5;28mself\u001B[39m\u001B[38;5;241m.\u001B[39mbase_pred, \u001B[38;5;28mself\u001B[39m\u001B[38;5;241m.\u001B[39my)\n\u001B[1;32m--> 167\u001B[0m boosting_tree \u001B[38;5;241m=\u001B[39m \u001B[43mXGBoostTree\u001B[49m\u001B[43m(\u001B[49m\u001B[43m)\u001B[49m\u001B[38;5;241;43m.\u001B[39;49m\u001B[43mfit\u001B[49m\u001B[43m(\u001B[49m\u001B[38;5;28;43mself\u001B[39;49m\u001B[38;5;241;43m.\u001B[39;49m\u001B[43mX\u001B[49m\u001B[43m,\u001B[49m\u001B[43m \u001B[49m\u001B[43mGrad\u001B[49m\u001B[43m,\u001B[49m\u001B[43m \u001B[49m\u001B[43mHess\u001B[49m\u001B[43m,\u001B[49m\u001B[43m \u001B[49m\u001B[43mdepth\u001B[49m\u001B[38;5;241;43m=\u001B[39;49m\u001B[38;5;28;43mself\u001B[39;49m\u001B[38;5;241;43m.\u001B[39;49m\u001B[43mdepth\u001B[49m\u001B[43m,\u001B[49m\u001B[43m \u001B[49m\u001B[43mmin_leaf\u001B[49m\u001B[38;5;241;43m=\u001B[39;49m\u001B[38;5;28;43mself\u001B[39;49m\u001B[38;5;241;43m.\u001B[39;49m\u001B[43mmin_leaf\u001B[49m\u001B[43m,\u001B[49m\n\u001B[0;32m    168\u001B[0m \u001B[43m                                  \u001B[49m\u001B[43mlambda_\u001B[49m\u001B[38;5;241;43m=\u001B[39;49m\u001B[38;5;28;43mself\u001B[39;49m\u001B[38;5;241;43m.\u001B[39;49m\u001B[43mlambda_\u001B[49m\u001B[43m,\u001B[49m\u001B[43m \u001B[49m\u001B[43mgamma\u001B[49m\u001B[38;5;241;43m=\u001B[39;49m\u001B[38;5;28;43mself\u001B[39;49m\u001B[38;5;241;43m.\u001B[39;49m\u001B[43mgamma\u001B[49m\u001B[43m,\u001B[49m\u001B[43m \u001B[49m\u001B[43meps\u001B[49m\u001B[38;5;241;43m=\u001B[39;49m\u001B[38;5;28;43mself\u001B[39;49m\u001B[38;5;241;43m.\u001B[39;49m\u001B[43meps\u001B[49m\u001B[43m,\u001B[49m\n\u001B[0;32m    169\u001B[0m \u001B[43m                                  \u001B[49m\u001B[43mmin_child_weight\u001B[49m\u001B[38;5;241;43m=\u001B[39;49m\u001B[38;5;28;43mself\u001B[39;49m\u001B[38;5;241;43m.\u001B[39;49m\u001B[43mmin_child_weight\u001B[49m\u001B[43m,\u001B[49m\n\u001B[0;32m    170\u001B[0m \u001B[43m                                  \u001B[49m\u001B[43msubsample_cols\u001B[49m\u001B[38;5;241;43m=\u001B[39;49m\u001B[38;5;28;43mself\u001B[39;49m\u001B[38;5;241;43m.\u001B[39;49m\u001B[43msubsample_cols\u001B[49m\u001B[43m)\u001B[49m\n\u001B[0;32m    171\u001B[0m \u001B[38;5;28mself\u001B[39m\u001B[38;5;241m.\u001B[39mbase_pred \u001B[38;5;241m+\u001B[39m\u001B[38;5;241m=\u001B[39m \u001B[38;5;28mself\u001B[39m\u001B[38;5;241m.\u001B[39mlearning_rate \u001B[38;5;241m*\u001B[39m boosting_tree\u001B[38;5;241m.\u001B[39mpredict(\u001B[38;5;28mself\u001B[39m\u001B[38;5;241m.\u001B[39mX)\n\u001B[0;32m    172\u001B[0m \u001B[38;5;28mself\u001B[39m\u001B[38;5;241m.\u001B[39mestimators\u001B[38;5;241m.\u001B[39mappend(boosting_tree)\n",
      "File \u001B[1;32mD:\\Predict-employee-attrition-rate\\Method\\GradientBoost.py:130\u001B[0m, in \u001B[0;36mXGBoostTree.fit\u001B[1;34m(self, x, gradient, hessian, *args, **kwargs)\u001B[0m\n\u001B[0;32m    129\u001B[0m \u001B[38;5;28;01mdef\u001B[39;00m \u001B[38;5;21mfit\u001B[39m(\u001B[38;5;28mself\u001B[39m, x, gradient, hessian,  \u001B[38;5;241m*\u001B[39margs, \u001B[38;5;241m*\u001B[39m\u001B[38;5;241m*\u001B[39mkwargs):\n\u001B[1;32m--> 130\u001B[0m     \u001B[38;5;28mself\u001B[39m\u001B[38;5;241m.\u001B[39mdtree \u001B[38;5;241m=\u001B[39m \u001B[43mNode\u001B[49m\u001B[43m(\u001B[49m\u001B[43mx\u001B[49m\u001B[43m,\u001B[49m\u001B[43m \u001B[49m\u001B[43mgradient\u001B[49m\u001B[43m,\u001B[49m\u001B[43m \u001B[49m\u001B[43mhessian\u001B[49m\u001B[43m,\u001B[49m\u001B[43m \u001B[49m\u001B[43mnp\u001B[49m\u001B[38;5;241;43m.\u001B[39;49m\u001B[43marray\u001B[49m\u001B[43m(\u001B[49m\u001B[43mnp\u001B[49m\u001B[38;5;241;43m.\u001B[39;49m\u001B[43marange\u001B[49m\u001B[43m(\u001B[49m\u001B[38;5;28;43mlen\u001B[39;49m\u001B[43m(\u001B[49m\u001B[43mx\u001B[49m\u001B[43m)\u001B[49m\u001B[43m)\u001B[49m\u001B[43m)\u001B[49m\u001B[43m,\u001B[49m\u001B[43m \u001B[49m\u001B[38;5;241;43m*\u001B[39;49m\u001B[43margs\u001B[49m\u001B[43m,\u001B[49m\u001B[43m \u001B[49m\u001B[38;5;241;43m*\u001B[39;49m\u001B[38;5;241;43m*\u001B[39;49m\u001B[43mkwargs\u001B[49m\u001B[43m)\u001B[49m\n\u001B[0;32m    131\u001B[0m     \u001B[38;5;28;01mreturn\u001B[39;00m \u001B[38;5;28mself\u001B[39m\n",
      "File \u001B[1;32mD:\\Predict-employee-attrition-rate\\Method\\GradientBoost.py:25\u001B[0m, in \u001B[0;36mNode.__init__\u001B[1;34m(self, x, gradient, hessian, idxs, subsample_cols, min_leaf, min_child_weight, depth, lambda_, gamma, eps)\u001B[0m\n\u001B[0;32m     22\u001B[0m \u001B[38;5;28mself\u001B[39m\u001B[38;5;241m.\u001B[39mval \u001B[38;5;241m=\u001B[39m \u001B[38;5;28mself\u001B[39m\u001B[38;5;241m.\u001B[39mcompute_gamma(\u001B[38;5;28mself\u001B[39m\u001B[38;5;241m.\u001B[39mgradient[\u001B[38;5;28mself\u001B[39m\u001B[38;5;241m.\u001B[39midxs], \u001B[38;5;28mself\u001B[39m\u001B[38;5;241m.\u001B[39mhessian[\u001B[38;5;28mself\u001B[39m\u001B[38;5;241m.\u001B[39midxs])\n\u001B[0;32m     24\u001B[0m \u001B[38;5;28mself\u001B[39m\u001B[38;5;241m.\u001B[39mscore \u001B[38;5;241m=\u001B[39m \u001B[38;5;28mfloat\u001B[39m(\u001B[38;5;124m'\u001B[39m\u001B[38;5;124m-inf\u001B[39m\u001B[38;5;124m'\u001B[39m)\n\u001B[1;32m---> 25\u001B[0m \u001B[38;5;28;43mself\u001B[39;49m\u001B[38;5;241;43m.\u001B[39;49m\u001B[43mfind_varsplit\u001B[49m\u001B[43m(\u001B[49m\u001B[43m)\u001B[49m\n",
      "File \u001B[1;32mD:\\Predict-employee-attrition-rate\\Method\\GradientBoost.py:31\u001B[0m, in \u001B[0;36mNode.find_varsplit\u001B[1;34m(self)\u001B[0m\n\u001B[0;32m     30\u001B[0m \u001B[38;5;28;01mdef\u001B[39;00m \u001B[38;5;21mfind_varsplit\u001B[39m(\u001B[38;5;28mself\u001B[39m):\n\u001B[1;32m---> 31\u001B[0m     \u001B[38;5;28;01mfor\u001B[39;00m c \u001B[38;5;129;01min\u001B[39;00m \u001B[38;5;28mself\u001B[39m\u001B[38;5;241m.\u001B[39mcolumn_subsample: \u001B[38;5;28;43mself\u001B[39;49m\u001B[38;5;241;43m.\u001B[39;49m\u001B[43mfind_greedy_split\u001B[49m\u001B[43m(\u001B[49m\u001B[43mc\u001B[49m\u001B[43m)\u001B[49m\n\u001B[0;32m     32\u001B[0m     \u001B[38;5;28;01mif\u001B[39;00m \u001B[38;5;28mself\u001B[39m\u001B[38;5;241m.\u001B[39mis_leaf: \u001B[38;5;28;01mreturn\u001B[39;00m\n\u001B[0;32m     33\u001B[0m     x \u001B[38;5;241m=\u001B[39m \u001B[38;5;28mself\u001B[39m\u001B[38;5;241m.\u001B[39msplit_col\n",
      "File \u001B[1;32mD:\\Predict-employee-attrition-rate\\Method\\GradientBoost.py:51\u001B[0m, in \u001B[0;36mNode.find_greedy_split\u001B[1;34m(self, var_idx)\u001B[0m\n\u001B[0;32m     48\u001B[0m rhs \u001B[38;5;241m=\u001B[39m x \u001B[38;5;241m>\u001B[39m x[r]\n\u001B[0;32m     50\u001B[0m lhs_indices \u001B[38;5;241m=\u001B[39m np\u001B[38;5;241m.\u001B[39mnonzero(x \u001B[38;5;241m<\u001B[39m\u001B[38;5;241m=\u001B[39m x[r])[\u001B[38;5;241m0\u001B[39m]\n\u001B[1;32m---> 51\u001B[0m rhs_indices \u001B[38;5;241m=\u001B[39m \u001B[43mnp\u001B[49m\u001B[38;5;241;43m.\u001B[39;49m\u001B[43mnonzero\u001B[49m\u001B[43m(\u001B[49m\u001B[43mx\u001B[49m\u001B[43m \u001B[49m\u001B[38;5;241;43m>\u001B[39;49m\u001B[43m \u001B[49m\u001B[43mx\u001B[49m\u001B[43m[\u001B[49m\u001B[43mr\u001B[49m\u001B[43m]\u001B[49m\u001B[43m)\u001B[49m[\u001B[38;5;241m0\u001B[39m]\n\u001B[0;32m     52\u001B[0m \u001B[38;5;28;01mif\u001B[39;00m (rhs\u001B[38;5;241m.\u001B[39msum() \u001B[38;5;241m<\u001B[39m \u001B[38;5;28mself\u001B[39m\u001B[38;5;241m.\u001B[39mmin_leaf \u001B[38;5;129;01mor\u001B[39;00m lhs\u001B[38;5;241m.\u001B[39msum() \u001B[38;5;241m<\u001B[39m \u001B[38;5;28mself\u001B[39m\u001B[38;5;241m.\u001B[39mmin_leaf\n\u001B[0;32m     53\u001B[0m         \u001B[38;5;129;01mor\u001B[39;00m \u001B[38;5;28mself\u001B[39m\u001B[38;5;241m.\u001B[39mhessian[lhs_indices]\u001B[38;5;241m.\u001B[39msum() \u001B[38;5;241m<\u001B[39m \u001B[38;5;28mself\u001B[39m\u001B[38;5;241m.\u001B[39mmin_child_weight\n\u001B[0;32m     54\u001B[0m         \u001B[38;5;129;01mor\u001B[39;00m \u001B[38;5;28mself\u001B[39m\u001B[38;5;241m.\u001B[39mhessian[rhs_indices]\u001B[38;5;241m.\u001B[39msum() \u001B[38;5;241m<\u001B[39m \u001B[38;5;28mself\u001B[39m\u001B[38;5;241m.\u001B[39mmin_child_weight): \u001B[38;5;28;01mcontinue\u001B[39;00m\n",
      "File \u001B[1;32m~\\AppData\\Local\\Packages\\PythonSoftwareFoundation.Python.3.11_qbz5n2kfra8p0\\LocalCache\\local-packages\\Python311\\site-packages\\numpy\\core\\fromnumeric.py:1973\u001B[0m, in \u001B[0;36mnonzero\u001B[1;34m(a)\u001B[0m\n\u001B[0;32m   1881\u001B[0m \u001B[38;5;129m@array_function_dispatch\u001B[39m(_nonzero_dispatcher)\n\u001B[0;32m   1882\u001B[0m \u001B[38;5;28;01mdef\u001B[39;00m \u001B[38;5;21mnonzero\u001B[39m(a):\n\u001B[0;32m   1883\u001B[0m \u001B[38;5;250m    \u001B[39m\u001B[38;5;124;03m\"\"\"\u001B[39;00m\n\u001B[0;32m   1884\u001B[0m \u001B[38;5;124;03m    Return the indices of the elements that are non-zero.\u001B[39;00m\n\u001B[0;32m   1885\u001B[0m \n\u001B[1;32m   (...)\u001B[0m\n\u001B[0;32m   1971\u001B[0m \n\u001B[0;32m   1972\u001B[0m \u001B[38;5;124;03m    \"\"\"\u001B[39;00m\n\u001B[1;32m-> 1973\u001B[0m     \u001B[38;5;28;01mreturn\u001B[39;00m \u001B[43m_wrapfunc\u001B[49m\u001B[43m(\u001B[49m\u001B[43ma\u001B[49m\u001B[43m,\u001B[49m\u001B[43m \u001B[49m\u001B[38;5;124;43m'\u001B[39;49m\u001B[38;5;124;43mnonzero\u001B[39;49m\u001B[38;5;124;43m'\u001B[39;49m\u001B[43m)\u001B[49m\n",
      "File \u001B[1;32m~\\AppData\\Local\\Packages\\PythonSoftwareFoundation.Python.3.11_qbz5n2kfra8p0\\LocalCache\\local-packages\\Python311\\site-packages\\numpy\\core\\fromnumeric.py:59\u001B[0m, in \u001B[0;36m_wrapfunc\u001B[1;34m(obj, method, *args, **kwds)\u001B[0m\n\u001B[0;32m     56\u001B[0m     \u001B[38;5;28;01mreturn\u001B[39;00m _wrapit(obj, method, \u001B[38;5;241m*\u001B[39margs, \u001B[38;5;241m*\u001B[39m\u001B[38;5;241m*\u001B[39mkwds)\n\u001B[0;32m     58\u001B[0m \u001B[38;5;28;01mtry\u001B[39;00m:\n\u001B[1;32m---> 59\u001B[0m     \u001B[38;5;28;01mreturn\u001B[39;00m \u001B[43mbound\u001B[49m\u001B[43m(\u001B[49m\u001B[38;5;241;43m*\u001B[39;49m\u001B[43margs\u001B[49m\u001B[43m,\u001B[49m\u001B[43m \u001B[49m\u001B[38;5;241;43m*\u001B[39;49m\u001B[38;5;241;43m*\u001B[39;49m\u001B[43mkwds\u001B[49m\u001B[43m)\u001B[49m\n\u001B[0;32m     60\u001B[0m \u001B[38;5;28;01mexcept\u001B[39;00m \u001B[38;5;167;01mTypeError\u001B[39;00m:\n\u001B[0;32m     61\u001B[0m     \u001B[38;5;66;03m# A TypeError occurs if the object does have such a method in its\u001B[39;00m\n\u001B[0;32m     62\u001B[0m     \u001B[38;5;66;03m# class, but its signature is not identical to that of NumPy's. This\u001B[39;00m\n\u001B[1;32m   (...)\u001B[0m\n\u001B[0;32m     66\u001B[0m     \u001B[38;5;66;03m# Call _wrapit from within the except clause to ensure a potential\u001B[39;00m\n\u001B[0;32m     67\u001B[0m     \u001B[38;5;66;03m# exception has a traceback chain.\u001B[39;00m\n\u001B[0;32m     68\u001B[0m     \u001B[38;5;28;01mreturn\u001B[39;00m _wrapit(obj, method, \u001B[38;5;241m*\u001B[39margs, \u001B[38;5;241m*\u001B[39m\u001B[38;5;241m*\u001B[39mkwds)\n",
      "\u001B[1;31mKeyboardInterrupt\u001B[0m: "
     ]
    }
   ],
   "execution_count": 18
  },
  {
   "cell_type": "code",
   "execution_count": null,
   "id": "a89c529fba2f6411",
   "metadata": {},
   "outputs": [],
   "source": [
    "def save_model(model, filename):\n",
    "    with open(filename, 'wb') as f:\n",
    "        pickle.dump(model, f)\n",
    "save_model(best_model, 'best_xgb_model.pkl')"
   ]
  }
 ],
 "metadata": {
  "kernelspec": {
   "display_name": "base",
   "language": "python",
   "name": "python3"
  },
  "language_info": {
   "codemirror_mode": {
    "name": "ipython",
    "version": 3
   },
   "file_extension": ".py",
   "mimetype": "text/x-python",
   "name": "python",
   "nbconvert_exporter": "python",
   "pygments_lexer": "ipython3",
   "version": "3.12.2"
  }
 },
 "nbformat": 4,
 "nbformat_minor": 5
}
