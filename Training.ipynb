{
 "cells": [
  {
   "cell_type": "code",
   "execution_count": 1,
   "id": "initial_id",
   "metadata": {
    "ExecuteTime": {
     "end_time": "2024-12-02T01:43:42.755720Z",
     "start_time": "2024-12-02T01:43:23.036419Z"
    },
    "collapsed": true
   },
   "outputs": [],
   "source": [
    "import pandas as pd\n",
    "import numpy as np\n",
    "from sklearn.metrics import mean_squared_error\n",
    "from collections import Counter\n",
    "from Method.GradientBoost import XGBoostRegressor as xgb\n",
    "from Method.DecisionTree import DecisionTree"
   ]
  },
  {
   "cell_type": "code",
   "execution_count": 2,
   "id": "679b8594f8ecd1f6",
   "metadata": {
    "ExecuteTime": {
     "end_time": "2024-12-02T01:44:16.615796Z",
     "start_time": "2024-12-02T01:44:16.566312Z"
    }
   },
   "outputs": [],
   "source": [
    "train_data = pd.read_csv(\"Processed Data/train.csv\")\n",
    "validation_data = pd.read_csv(\"Processed Data/validation.csv\")"
   ]
  },
  {
   "cell_type": "code",
   "execution_count": 3,
   "id": "8ccc12fca9d37717",
   "metadata": {
    "ExecuteTime": {
     "end_time": "2024-12-02T01:44:21.324285Z",
     "start_time": "2024-12-02T01:44:21.307457Z"
    }
   },
   "outputs": [],
   "source": [
    "X_train = train_data.drop(columns=['Attrition_rate']).values\n",
    "y_train = train_data['Attrition_rate'].values"
   ]
  },
  {
   "cell_type": "code",
   "execution_count": 4,
   "id": "d641e3e5c9610e2b",
   "metadata": {
    "ExecuteTime": {
     "end_time": "2024-12-02T02:09:30.265052Z",
     "start_time": "2024-12-02T01:51:20.324064Z"
    }
   },
   "outputs": [],
   "source": [
    "model = xgb()\n",
    "model.fit(X_train, y_train)"
   ]
  },
  {
   "cell_type": "code",
   "execution_count": 5,
   "id": "288272711b61602e",
   "metadata": {
    "ExecuteTime": {
     "end_time": "2024-12-02T02:09:36.890251Z",
     "start_time": "2024-12-02T02:09:36.838482Z"
    }
   },
   "outputs": [],
   "source": [
    "X_val = validation_data.drop(columns=['Attrition_rate']).values\n",
    "y_val = validation_data['Attrition_rate'].values\n",
    "\n",
    "y_pred = model.predict(X_val)"
   ]
  },
  {
   "cell_type": "code",
   "execution_count": 6,
   "id": "fb16adf357cda115",
   "metadata": {
    "ExecuteTime": {
     "end_time": "2024-12-02T02:11:24.312993Z",
     "start_time": "2024-12-02T02:11:24.145784Z"
    }
   },
   "outputs": [
    {
     "name": "stdout",
     "output_type": "stream",
     "text": [
      "RMSE on validation set: 0.18099281805242315\n"
     ]
    },
    {
     "name": "stderr",
     "output_type": "stream",
     "text": [
      "f:\\Apps\\miniconda3\\Lib\\site-packages\\sklearn\\metrics\\_regression.py:492: FutureWarning: 'squared' is deprecated in version 1.4 and will be removed in 1.6. To calculate the root mean squared error, use the function'root_mean_squared_error'.\n",
      "  warnings.warn(\n"
     ]
    }
   ],
   "source": [
    "rmse = mean_squared_error(y_val, y_pred, squared=False)\n",
    "print(f\"RMSE on validation set: {rmse}\")"
   ]
  },
  {
   "cell_type": "code",
   "execution_count": 7,
   "id": "153ac2e7b40b104c",
   "metadata": {
    "ExecuteTime": {
     "end_time": "2024-12-02T02:12:15.499027Z",
     "start_time": "2024-12-02T02:12:15.462363Z"
    }
   },
   "outputs": [],
   "source": [
    "test_data = pd.read_csv(\"Processed Data/test.csv\")\n",
    "X_test = test_data.values"
   ]
  },
  {
   "cell_type": "code",
   "execution_count": 8,
   "id": "cb8e72470011007b",
   "metadata": {
    "ExecuteTime": {
     "end_time": "2024-12-02T02:20:16.257163Z",
     "start_time": "2024-12-02T02:20:16.192058Z"
    }
   },
   "outputs": [],
   "source": [
    "y_pred_test = model.predict(X_test)"
   ]
  },
  {
   "cell_type": "code",
   "execution_count": 9,
   "id": "4135ae37a0aeb5cc",
   "metadata": {
    "ExecuteTime": {
     "end_time": "2024-12-02T02:23:13.961459Z",
     "start_time": "2024-12-02T02:23:13.874460Z"
    }
   },
   "outputs": [],
   "source": [
    "test_data['Attrition_rate'] = y_pred_test\n",
    "test_data.to_csv('test_predictions.csv', index=False)"
   ]
  },
  {
   "cell_type": "markdown",
   "id": "ed100cae0b4fd67",
   "metadata": {},
   "source": [
    "Cross Validation"
   ]
  },
  {
   "cell_type": "code",
   "execution_count": null,
   "id": "f15bd35a925d277c",
   "metadata": {},
   "outputs": [],
   "source": []
  },
  {
   "cell_type": "code",
   "execution_count": null,
   "id": "999c6e1bab28266",
   "metadata": {},
   "outputs": [],
   "source": []
  },
  {
   "cell_type": "code",
   "execution_count": null,
   "id": "a89c529fba2f6411",
   "metadata": {},
   "outputs": [],
   "source": []
  },
  {
   "cell_type": "code",
   "execution_count": null,
   "id": "f7ce9afe7ce16649",
   "metadata": {},
   "outputs": [],
   "source": []
  },
  {
   "cell_type": "code",
   "execution_count": null,
   "id": "35f8d0e4b3c0b8ca",
   "metadata": {},
   "outputs": [],
   "source": []
  }
 ],
 "metadata": {
  "kernelspec": {
   "display_name": "base",
   "language": "python",
   "name": "python3"
  },
  "language_info": {
   "codemirror_mode": {
    "name": "ipython",
    "version": 3
   },
   "file_extension": ".py",
   "mimetype": "text/x-python",
   "name": "python",
   "nbconvert_exporter": "python",
   "pygments_lexer": "ipython3",
   "version": "3.12.2"
  }
 },
 "nbformat": 4,
 "nbformat_minor": 5
}
