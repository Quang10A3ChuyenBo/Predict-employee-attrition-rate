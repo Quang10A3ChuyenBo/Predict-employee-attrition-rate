{
 "cells": [
  {
   "cell_type": "code",
   "id": "initial_id",
   "metadata": {
    "collapsed": true,
    "ExecuteTime": {
     "end_time": "2024-12-05T13:02:44.649863Z",
     "start_time": "2024-12-05T13:02:29.676935Z"
    }
   },
   "source": [
    "import pandas as pd\n",
    "import numpy as np\n",
    "from sklearn.model_selection import KFold, train_test_split\n",
    "from sklearn.metrics import mean_squared_error\n",
    "import pickle\n",
    "from math import e\n",
    "from collections import Counter\n",
    "from Method.GradientBoost import XGBoostRegressor as xgb\n",
    "from Method.DecisionTree import DecisionTree"
   ],
   "outputs": [],
   "execution_count": 1
  },
  {
   "cell_type": "code",
   "id": "679b8594f8ecd1f6",
   "metadata": {
    "ExecuteTime": {
     "end_time": "2024-12-05T13:03:25.744158Z",
     "start_time": "2024-12-05T13:03:25.668711Z"
    }
   },
   "source": [
    "train_data = pd.read_csv(\"Processed Data/train.csv\")\n",
    "validation_data = pd.read_csv(\"Processed Data/validation.csv\")"
   ],
   "outputs": [],
   "execution_count": 2
  },
  {
   "cell_type": "code",
   "id": "8ccc12fca9d37717",
   "metadata": {
    "ExecuteTime": {
     "end_time": "2024-12-05T13:03:27.720995Z",
     "start_time": "2024-12-05T13:03:27.702285Z"
    }
   },
   "source": [
    "X_train = train_data.drop(columns=['Attrition_rate']).values\n",
    "y_train = train_data['Attrition_rate'].values"
   ],
   "outputs": [],
   "execution_count": 3
  },
  {
   "cell_type": "code",
   "id": "d641e3e5c9610e2b",
   "metadata": {},
   "source": [
    "model = xgb()\n",
    "model.fit(X_train, y_train)"
   ],
   "outputs": [],
   "execution_count": null
  },
  {
   "metadata": {},
   "cell_type": "code",
   "source": [
    "def save_model(model, filename):\n",
    "    with open(filename, 'wb') as f:\n",
    "        pickle.dump(model, f)\n",
    "save_model(model, 'trained_xgb_model.pkl')"
   ],
   "id": "71234a0051232366",
   "outputs": [],
   "execution_count": null
  },
  {
   "metadata": {
    "ExecuteTime": {
     "end_time": "2024-12-05T13:03:51.135459Z",
     "start_time": "2024-12-05T13:03:50.504018Z"
    }
   },
   "cell_type": "code",
   "source": [
    "def load_model(filename):\n",
    "    with open(filename, 'rb') as f:\n",
    "        return pickle.load(f)\n",
    "loaded_model = load_model('final_model.pkl')"
   ],
   "id": "cdf487512b3d50ca",
   "outputs": [
    {
     "ename": "ModuleNotFoundError",
     "evalue": "No module named 'GradientBoost'",
     "output_type": "error",
     "traceback": [
      "\u001B[1;31m---------------------------------------------------------------------------\u001B[0m",
      "\u001B[1;31mModuleNotFoundError\u001B[0m                       Traceback (most recent call last)",
      "Cell \u001B[1;32mIn[5], line 4\u001B[0m\n\u001B[0;32m      2\u001B[0m     \u001B[38;5;28;01mwith\u001B[39;00m \u001B[38;5;28mopen\u001B[39m(filename, \u001B[38;5;124m'\u001B[39m\u001B[38;5;124mrb\u001B[39m\u001B[38;5;124m'\u001B[39m) \u001B[38;5;28;01mas\u001B[39;00m f:\n\u001B[0;32m      3\u001B[0m         \u001B[38;5;28;01mreturn\u001B[39;00m pickle\u001B[38;5;241m.\u001B[39mload(f)\n\u001B[1;32m----> 4\u001B[0m loaded_model \u001B[38;5;241m=\u001B[39m \u001B[43mload_model\u001B[49m\u001B[43m(\u001B[49m\u001B[38;5;124;43m'\u001B[39;49m\u001B[38;5;124;43mfinal_model.pkl\u001B[39;49m\u001B[38;5;124;43m'\u001B[39;49m\u001B[43m)\u001B[49m\n",
      "Cell \u001B[1;32mIn[5], line 3\u001B[0m, in \u001B[0;36mload_model\u001B[1;34m(filename)\u001B[0m\n\u001B[0;32m      1\u001B[0m \u001B[38;5;28;01mdef\u001B[39;00m \u001B[38;5;21mload_model\u001B[39m(filename):\n\u001B[0;32m      2\u001B[0m     \u001B[38;5;28;01mwith\u001B[39;00m \u001B[38;5;28mopen\u001B[39m(filename, \u001B[38;5;124m'\u001B[39m\u001B[38;5;124mrb\u001B[39m\u001B[38;5;124m'\u001B[39m) \u001B[38;5;28;01mas\u001B[39;00m f:\n\u001B[1;32m----> 3\u001B[0m         \u001B[38;5;28;01mreturn\u001B[39;00m \u001B[43mpickle\u001B[49m\u001B[38;5;241;43m.\u001B[39;49m\u001B[43mload\u001B[49m\u001B[43m(\u001B[49m\u001B[43mf\u001B[49m\u001B[43m)\u001B[49m\n",
      "\u001B[1;31mModuleNotFoundError\u001B[0m: No module named 'GradientBoost'"
     ]
    }
   ],
   "execution_count": 5
  },
  {
   "metadata": {
    "ExecuteTime": {
     "end_time": "2024-12-05T13:03:32.520986Z",
     "start_time": "2024-12-05T13:03:32.510008Z"
    }
   },
   "cell_type": "code",
   "source": [
    "X_val = validation_data.drop(columns=['Attrition_rate']).values\n",
    "y_val = validation_data['Attrition_rate'].values"
   ],
   "id": "f92b4503452e1f93",
   "outputs": [],
   "execution_count": 4
  },
  {
   "metadata": {},
   "cell_type": "code",
   "source": [
    "y_pred_val = loaded_model.predict(X_val)\n",
    "rmse = mean_squared_error(y_val, y_pred_val, squared=False)\n",
    "print(f\"RMSE on validation set (loaded model): {rmse}\")"
   ],
   "id": "48d748ffe91bcee8",
   "outputs": [],
   "execution_count": null
  },
  {
   "cell_type": "markdown",
   "id": "ed100cae0b4fd67",
   "metadata": {},
   "source": [
    "Cross Validation"
   ]
  },
  {
   "metadata": {},
   "cell_type": "code",
   "outputs": [],
   "execution_count": null,
   "source": [
    "best_params = {\n",
    "    'subsample_cols': 0.706,\n",
    "    'min_child_weight': 2,\n",
    "    'depth': 4,\n",
    "    'min_leaf': 7,\n",
    "    'learning_rate': 0.056,\n",
    "    'boosting_rounds': 15,\n",
    "    'lambda_': 1.168,\n",
    "    'gamma': 0.243,\n",
    "    'eps': 0.1\n",
    "}"
   ],
   "id": "57014c7b532f285a"
  },
  {
   "metadata": {},
   "cell_type": "code",
   "outputs": [],
   "execution_count": null,
   "source": [
    "def cross_validation(X_train, y_train, X_val, y_val, n_splits=5, **kwargs):\n",
    "\n",
    "    kf = KFold(n_splits=n_splits, shuffle=True, random_state=42)\n",
    "    cv_rmse_scores = []\n",
    "    val_rmse_scores = []\n",
    "\n",
    "    for i, (train_index, test_index) in enumerate(kf.split(X_train)):\n",
    "        print(f\"Fold {i+1}:\")\n",
    "        X_fold_train, X_fold_test = X_train[train_index], X_train[test_index]\n",
    "        y_fold_train, y_fold_test = y_train[train_index], y_train[test_index]\n",
    "\n",
    "        model = xgb()\n",
    "        model.fit(X_fold_train, y_fold_train, **kwargs, early_stopping_rounds=5, X_fold_test, y_fold_test)\n",
    "\n",
    "\n",
    "        y_pred_fold_test = model.predict(X_fold_test)\n",
    "        cv_rmse = mean_squared_error(y_fold_test, y_pred_fold_test, squared=False)\n",
    "        cv_rmse_scores.append(cv_rmse)\n",
    "\n",
    "        y_pred_val = model.predict(X_val)\n",
    "        val_rmse = mean_squared_error(y_val, y_pred_val, squared=False)\n",
    "        val_rmse_scores.append(val_rmse)\n",
    "\n",
    "\n",
    "\n",
    "        print(f\"  Training RMSE: {mean_squared_error(y_fold_train, model.predict(X_fold_train), squared=False):.3f}\")\n",
    "        print(f\"  Cross-Validation RMSE: {cv_rmse:.3f}\")\n",
    "        print(f\"  Validation RMSE: {val_rmse:.3f}\\n\")\n",
    "    avg_cv_rmse = np.mean(cv_rmse_scores)\n",
    "    avg_val_rmse = np.mean(val_rmse_scores)\n",
    "\n",
    "    print(f\"Average Cross-Validation RMSE: {avg_cv_rmse:.3f}\")\n",
    "    print(f\"Average Validation RMSE: {avg_val_rmse:.3f}\")\n",
    "\n",
    "\n",
    "    return avg_val_rmse, avg_cv_rmse"
   ],
   "id": "9dfb572bfba89fe6"
  },
  {
   "metadata": {},
   "cell_type": "code",
   "outputs": [],
   "execution_count": null,
   "source": "avg_val_rmse, avg_cv_rmse = cross_validation(X_train, y_train, X_val, y_val, n_splits=5, **best_params)",
   "id": "6deb6611a1178586"
  },
  {
   "metadata": {},
   "cell_type": "code",
   "outputs": [],
   "execution_count": null,
   "source": [
    "test_data = pd.read_csv(\"Processed Data/test.csv\")\n",
    "X_test = test_data.values\n",
    "y_pred_test = model.predict(X_test)\n",
    "test_data['Attrition_rate'] = y_pred_test\n",
    "test_data.to_csv('test_predictions_final.csv', index=False)"
   ],
   "id": "153ac2e7b40b104c"
  }
 ],
 "metadata": {
  "kernelspec": {
   "display_name": "base",
   "language": "python",
   "name": "python3"
  },
  "language_info": {
   "codemirror_mode": {
    "name": "ipython",
    "version": 3
   },
   "file_extension": ".py",
   "mimetype": "text/x-python",
   "name": "python",
   "nbconvert_exporter": "python",
   "pygments_lexer": "ipython3",
   "version": "3.12.2"
  }
 },
 "nbformat": 4,
 "nbformat_minor": 5
}
