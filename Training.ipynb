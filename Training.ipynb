{
 "cells": [
  {
   "cell_type": "code",
   "id": "initial_id",
   "metadata": {
    "collapsed": true,
    "ExecuteTime": {
     "end_time": "2024-12-04T05:58:29.400554Z",
     "start_time": "2024-12-04T05:58:10.970704Z"
    }
   },
   "source": [
    "import pandas as pd\n",
    "import numpy as np\n",
    "from sklearn.model_selection import KFold, train_test_split\n",
    "from sklearn.metrics import mean_squared_error\n",
    "import pickle\n",
    "from math import e\n",
    "from collections import Counter\n",
    "from Method.GradientBoost import XGBoostRegressor as xgb\n",
    "from Method.DecisionTree import DecisionTree"
   ],
   "outputs": [],
   "execution_count": 1
  },
  {
   "cell_type": "code",
   "id": "679b8594f8ecd1f6",
   "metadata": {
    "ExecuteTime": {
     "end_time": "2024-12-04T05:58:29.498164Z",
     "start_time": "2024-12-04T05:58:29.420474Z"
    }
   },
   "source": [
    "train_data = pd.read_csv(\"Processed Data/train.csv\")\n",
    "validation_data = pd.read_csv(\"Processed Data/validation.csv\")"
   ],
   "outputs": [],
   "execution_count": 2
  },
  {
   "cell_type": "code",
   "id": "8ccc12fca9d37717",
   "metadata": {
    "ExecuteTime": {
     "end_time": "2024-12-04T05:58:30.444537Z",
     "start_time": "2024-12-04T05:58:30.429750Z"
    }
   },
   "source": [
    "X_train = train_data.drop(columns=['Attrition_rate']).values\n",
    "y_train = train_data['Attrition_rate'].values"
   ],
   "outputs": [],
   "execution_count": 3
  },
  {
   "cell_type": "code",
   "id": "d641e3e5c9610e2b",
   "metadata": {
    "ExecuteTime": {
     "end_time": "2024-12-03T15:49:37.967998Z",
     "start_time": "2024-12-03T15:27:52.346316Z"
    }
   },
   "source": [
    "model = xgb()\n",
    "model.fit(X_train, y_train)"
   ],
   "outputs": [],
   "execution_count": 6
  },
  {
   "metadata": {
    "ExecuteTime": {
     "end_time": "2024-12-03T15:51:16.370325Z",
     "start_time": "2024-12-03T15:51:16.330751Z"
    }
   },
   "cell_type": "code",
   "source": [
    "def save_model(model, filename):\n",
    "    with open(filename, 'wb') as f:\n",
    "        pickle.dump(model, f)\n",
    "save_model(model, 'trained_xgb_model.pkl')"
   ],
   "id": "71234a0051232366",
   "outputs": [],
   "execution_count": 8
  },
  {
   "metadata": {
    "ExecuteTime": {
     "end_time": "2024-12-04T05:32:35.647992Z",
     "start_time": "2024-12-04T05:32:35.610836Z"
    }
   },
   "cell_type": "code",
   "source": [
    "def load_model(filename):\n",
    "    with open(filename, 'rb') as f:\n",
    "        return pickle.load(f)\n",
    "loaded_model = load_model('trained_xgb_model.pkl')"
   ],
   "id": "cdf487512b3d50ca",
   "outputs": [],
   "execution_count": 11
  },
  {
   "metadata": {
    "ExecuteTime": {
     "end_time": "2024-12-04T05:58:30.483291Z",
     "start_time": "2024-12-04T05:58:30.475806Z"
    }
   },
   "cell_type": "code",
   "source": [
    "X_val = validation_data.drop(columns=['Attrition_rate']).values\n",
    "y_val = validation_data['Attrition_rate'].values"
   ],
   "id": "f92b4503452e1f93",
   "outputs": [],
   "execution_count": 4
  },
  {
   "metadata": {
    "ExecuteTime": {
     "end_time": "2024-12-03T15:52:14.053670Z",
     "start_time": "2024-12-03T15:52:13.936822Z"
    }
   },
   "cell_type": "code",
   "source": [
    "y_pred_val = loaded_model.predict(X_val)\n",
    "rmse = mean_squared_error(y_val, y_pred_val, squared=False)\n",
    "print(f\"RMSE on validation set (loaded model): {rmse}\")"
   ],
   "id": "48d748ffe91bcee8",
   "outputs": [
    {
     "name": "stdout",
     "output_type": "stream",
     "text": [
      "RMSE on validation set (loaded model): 0.1807476509770369\n"
     ]
    },
    {
     "name": "stderr",
     "output_type": "stream",
     "text": [
      "C:\\Users\\HP\\AppData\\Local\\Packages\\PythonSoftwareFoundation.Python.3.11_qbz5n2kfra8p0\\LocalCache\\local-packages\\Python311\\site-packages\\sklearn\\metrics\\_regression.py:492: FutureWarning: 'squared' is deprecated in version 1.4 and will be removed in 1.6. To calculate the root mean squared error, use the function'root_mean_squared_error'.\n",
      "  warnings.warn(\n"
     ]
    }
   ],
   "execution_count": 12
  },
  {
   "cell_type": "code",
   "id": "153ac2e7b40b104c",
   "metadata": {
    "ExecuteTime": {
     "end_time": "2024-12-03T15:52:14.091037Z",
     "start_time": "2024-12-03T15:52:14.062650Z"
    }
   },
   "source": [
    "test_data = pd.read_csv(\"Processed Data/test.csv\")\n",
    "X_test = test_data.values"
   ],
   "outputs": [],
   "execution_count": 13
  },
  {
   "cell_type": "code",
   "id": "cb8e72470011007b",
   "metadata": {
    "ExecuteTime": {
     "end_time": "2024-12-03T15:52:14.221178Z",
     "start_time": "2024-12-03T15:52:14.147731Z"
    }
   },
   "source": [
    "y_pred_test = model.predict(X_test)"
   ],
   "outputs": [],
   "execution_count": 14
  },
  {
   "cell_type": "code",
   "id": "4135ae37a0aeb5cc",
   "metadata": {
    "ExecuteTime": {
     "end_time": "2024-12-03T15:52:14.344793Z",
     "start_time": "2024-12-03T15:52:14.263171Z"
    }
   },
   "source": [
    "test_data['Attrition_rate'] = y_pred_test\n",
    "test_data.to_csv('test_predictions2.csv', index=False)"
   ],
   "outputs": [],
   "execution_count": 15
  },
  {
   "cell_type": "markdown",
   "id": "ed100cae0b4fd67",
   "metadata": {},
   "source": [
    "Cross Validation"
   ]
  },
  {
   "cell_type": "code",
   "id": "f15bd35a925d277c",
   "metadata": {
    "ExecuteTime": {
     "end_time": "2024-12-04T07:44:49.108714Z",
     "start_time": "2024-12-04T07:44:49.095573Z"
    }
   },
   "source": [
    "import optuna\n",
    "def cross_validation(X_train, y_train, X_val, y_val, n_splits=5, **kwargs):\n",
    "    kf = KFold(n_splits=n_splits, shuffle=True, random_state=42)\n",
    "    cv_rmse_scores = []\n",
    "    val_rmse_scores = []\n",
    "    trained_models = []\n",
    "\n",
    "    for i, (train_index, test_index) in enumerate(kf.split(X_train)):\n",
    "        print(f\"Fold {i+1}:\")\n",
    "        X_fold_train, X_fold_test = X_train[train_index], X_train[test_index]\n",
    "        y_fold_train, y_fold_test = y_train[train_index], y_train[test_index]\n",
    "        print(f\"End task input\")\n",
    "        model = xgb()\n",
    "        model.fit(X_fold_train, y_fold_train, **kwargs)\n",
    "        print(f\"End task fit\")\n",
    "        y_pred_fold_test = model.predict(X_fold_test)\n",
    "        cv_rmse = mean_squared_error(y_fold_test, y_pred_fold_test, squared=False)\n",
    "        cv_rmse_scores.append(cv_rmse)\n",
    "\n",
    "        y_pred_val = model.predict(X_val)\n",
    "        val_rmse = mean_squared_error(y_val, y_pred_val, squared=False)\n",
    "        val_rmse_scores.append(val_rmse)\n",
    "        trained_models.append(model)\n",
    "\n",
    "        print(f\"  Training RMSE: {mean_squared_error(y_fold_train, model.predict(X_fold_train), squared=False)}\")\n",
    "        print(f\"  Cross-Validation RMSE: {cv_rmse}\")\n",
    "        print(f\"  Validation RMSE: {val_rmse}\\n\")\n",
    "\n",
    "    avg_cv_rmse = np.mean(cv_rmse_scores)\n",
    "    avg_val_rmse = np.mean(val_rmse_scores)\n",
    "\n",
    "    print(f\"Average Cross-Validation RMSE: {avg_cv_rmse}\")\n",
    "    print(f\"Average Validation RMSE: {avg_val_rmse}\")\n",
    "\n",
    "    best_model_index = np.argmin(val_rmse_scores)\n",
    "    best_model = trained_models[best_model_index]\n",
    "    return avg_val_rmse, best_model, avg_cv_rmse\n",
    "\n",
    "def objective(trial):\n",
    "    params = {\n",
    "        'subsample_cols': trial.suggest_float('subsample_cols', 0.6, 0.8),\n",
    "        'min_child_weight': trial.suggest_int('min_child_weight', 1, 10),\n",
    "        'depth': trial.suggest_int('depth', 3, 5),\n",
    "        'min_leaf': trial.suggest_int('min_leaf', 2, 7),\n",
    "        'learning_rate': trial.suggest_float('learning_rate', 0.05, 0.15),\n",
    "        'boosting_rounds': trial.suggest_int('boosting_rounds', 10, 30),\n",
    "        'lambda_': trial.suggest_float('lambda_', 1, 2.5),\n",
    "        'gamma': trial.suggest_float('gamma', 0, 1.3),\n",
    "        'eps': trial.suggest_float('eps', 0.08, 0.1)\n",
    "    }\n",
    "    print(\"Current Parameters:\", params)\n",
    "\n",
    "    avg_val_rmse, best_model, avg_cv_rmse =  cross_validation(X_train, y_train, X_val, y_val, n_splits=5, **params)\n",
    "    return avg_val_rmse, best_model, avg_cv_rmse\n"
   ],
   "outputs": [],
   "execution_count": 17
  },
  {
   "metadata": {
    "ExecuteTime": {
     "end_time": "2024-12-04T08:09:50.768769Z",
     "start_time": "2024-12-04T07:44:55.215036Z"
    }
   },
   "cell_type": "code",
   "source": [
    "study = optuna.create_study(direction='minimize')\n",
    "study.optimize(objective, n_trials=20)"
   ],
   "id": "5b4bfd470483ded7",
   "outputs": [
    {
     "name": "stderr",
     "output_type": "stream",
     "text": [
      "[I 2024-12-04 14:44:55,218] A new study created in memory with name: no-name-cd5c6ae5-1581-41d4-8798-014327cc95e3\n"
     ]
    },
    {
     "name": "stdout",
     "output_type": "stream",
     "text": [
      "Fold 1:\n",
      "End task input\n"
     ]
    },
    {
     "name": "stderr",
     "output_type": "stream",
     "text": [
      "[W 2024-12-04 15:09:50,550] Trial 0 failed with parameters: {'subsample_cols': 0.7380539246355304, 'min_child_weight': 6, 'depth': 8, 'min_leaf': 4, 'learning_rate': 0.07223563737960809, 'boosting_rounds': 36, 'lambda_': 2.3200643177388707, 'gamma': 0.7789896537593365, 'eps': 0.08191601305731473} because of the following error: KeyboardInterrupt().\n",
      "Traceback (most recent call last):\n",
      "  File \"C:\\Users\\HP\\AppData\\Local\\Packages\\PythonSoftwareFoundation.Python.3.11_qbz5n2kfra8p0\\LocalCache\\local-packages\\Python311\\site-packages\\optuna\\study\\_optimize.py\", line 197, in _run_trial\n",
      "    value_or_values = func(trial)\n",
      "                      ^^^^^^^^^^^\n",
      "  File \"C:\\Users\\HP\\AppData\\Local\\Temp\\ipykernel_2260\\3017538929.py\", line 52, in objective\n",
      "    avg_val_rmse, best_model, avg_cv_rmse =  cross_validation(X_train, y_train, X_val, y_val, n_splits=5, **params)\n",
      "                                             ^^^^^^^^^^^^^^^^^^^^^^^^^^^^^^^^^^^^^^^^^^^^^^^^^^^^^^^^^^^^^^^^^^^^^^\n",
      "  File \"C:\\Users\\HP\\AppData\\Local\\Temp\\ipykernel_2260\\3017538929.py\", line 14, in cross_validation\n",
      "    model.fit(X_fold_train, y_fold_train, **kwargs)\n",
      "  File \"D:\\Predict-employee-attrition-rate\\Method\\GradientBoost.py\", line 169, in fit\n",
      "    best_rmse = float('inf')\n",
      "                        ^^^^\n",
      "  File \"D:\\Predict-employee-attrition-rate\\Method\\GradientBoost.py\", line 131, in fit\n",
      "  File \"D:\\Predict-employee-attrition-rate\\Method\\GradientBoost.py\", line 25, in __init__\n",
      "    self.val = self.compute_gamma(self.gradient[self.idxs], self.hessian[self.idxs])\n",
      "    ^^^^^^^^^^^^^^^^^^^^\n",
      "  File \"D:\\Predict-employee-attrition-rate\\Method\\GradientBoost.py\", line 36, in find_varsplit\n",
      "    x = self.split_col\n",
      "               ^^^^^^^\n",
      "  File \"D:\\Predict-employee-attrition-rate\\Method\\GradientBoost.py\", line 25, in __init__\n",
      "    self.val = self.compute_gamma(self.gradient[self.idxs], self.hessian[self.idxs])\n",
      "    ^^^^^^^^^^^^^^^^^^^^\n",
      "  File \"D:\\Predict-employee-attrition-rate\\Method\\GradientBoost.py\", line 39, in find_varsplit\n",
      "    self.lhs = Node(x=self.x, gradient=self.gradient, hessian=self.hessian, idxs=self.idxs[lhs],\n",
      "               ^^^^^^^^^^^^^^^^^^^^^^^^^^^^^^^^^^^^^^^^^^^^^^^^^^^^^^^^^^^^^^^^^^^^^^^^^^^^^^^^^\n",
      "  File \"D:\\Predict-employee-attrition-rate\\Method\\GradientBoost.py\", line 25, in __init__\n",
      "    self.val = self.compute_gamma(self.gradient[self.idxs], self.hessian[self.idxs])\n",
      "    ^^^^^^^^^^^^^^^^^^^^\n",
      "  File \"D:\\Predict-employee-attrition-rate\\Method\\GradientBoost.py\", line 36, in find_varsplit\n",
      "    x = self.split_col\n",
      "               ^^^^^^^\n",
      "  File \"D:\\Predict-employee-attrition-rate\\Method\\GradientBoost.py\", line 25, in __init__\n",
      "    self.val = self.compute_gamma(self.gradient[self.idxs], self.hessian[self.idxs])\n",
      "    ^^^^^^^^^^^^^^^^^^^^\n",
      "  File \"D:\\Predict-employee-attrition-rate\\Method\\GradientBoost.py\", line 31, in find_varsplit\n",
      "    return (-np.sum(gradient) / (np.sum(hessian) + self.lambda_))\n",
      "                                    ~~~~~~~~~~~~~^~~~~~~~~~~~\n",
      "  File \"D:\\Predict-employee-attrition-rate\\Method\\GradientBoost.py\", line 56, in find_greedy_split\n",
      "    or self.hessian[lhs_indices].sum() < self.min_child_weight\n",
      "         ^^^^^^^^^^^^^^^^^^^\n",
      "  File \"D:\\Predict-employee-attrition-rate\\Method\\GradientBoost.py\", line 97, in gain\n",
      "    gradient = self.gradient[self.idxs]\n",
      "                   ^^^^^^^^^^^^^^^^^^^\n",
      "  File \"C:\\Users\\HP\\AppData\\Local\\Packages\\PythonSoftwareFoundation.Python.3.11_qbz5n2kfra8p0\\LocalCache\\local-packages\\Python311\\site-packages\\numpy\\core\\_methods.py\", line 47, in _sum\n",
      "    def _sum(a, axis=None, dtype=None, out=None, keepdims=False,\n",
      "    \n",
      "KeyboardInterrupt\n",
      "[W 2024-12-04 15:09:50,552] Trial 0 failed with value None.\n"
     ]
    },
    {
     "ename": "KeyboardInterrupt",
     "evalue": "",
     "output_type": "error",
     "traceback": [
      "\u001B[1;31m---------------------------------------------------------------------------\u001B[0m",
      "\u001B[1;31mKeyboardInterrupt\u001B[0m                         Traceback (most recent call last)",
      "Cell \u001B[1;32mIn[18], line 2\u001B[0m\n\u001B[0;32m      1\u001B[0m study \u001B[38;5;241m=\u001B[39m optuna\u001B[38;5;241m.\u001B[39mcreate_study(direction\u001B[38;5;241m=\u001B[39m\u001B[38;5;124m'\u001B[39m\u001B[38;5;124mminimize\u001B[39m\u001B[38;5;124m'\u001B[39m)\n\u001B[1;32m----> 2\u001B[0m \u001B[43mstudy\u001B[49m\u001B[38;5;241;43m.\u001B[39;49m\u001B[43moptimize\u001B[49m\u001B[43m(\u001B[49m\u001B[43mobjective\u001B[49m\u001B[43m,\u001B[49m\u001B[43m \u001B[49m\u001B[43mn_trials\u001B[49m\u001B[38;5;241;43m=\u001B[39;49m\u001B[38;5;241;43m20\u001B[39;49m\u001B[43m)\u001B[49m\n",
      "File \u001B[1;32m~\\AppData\\Local\\Packages\\PythonSoftwareFoundation.Python.3.11_qbz5n2kfra8p0\\LocalCache\\local-packages\\Python311\\site-packages\\optuna\\study\\study.py:475\u001B[0m, in \u001B[0;36mStudy.optimize\u001B[1;34m(self, func, n_trials, timeout, n_jobs, catch, callbacks, gc_after_trial, show_progress_bar)\u001B[0m\n\u001B[0;32m    373\u001B[0m \u001B[38;5;28;01mdef\u001B[39;00m \u001B[38;5;21moptimize\u001B[39m(\n\u001B[0;32m    374\u001B[0m     \u001B[38;5;28mself\u001B[39m,\n\u001B[0;32m    375\u001B[0m     func: ObjectiveFuncType,\n\u001B[1;32m   (...)\u001B[0m\n\u001B[0;32m    382\u001B[0m     show_progress_bar: \u001B[38;5;28mbool\u001B[39m \u001B[38;5;241m=\u001B[39m \u001B[38;5;28;01mFalse\u001B[39;00m,\n\u001B[0;32m    383\u001B[0m ) \u001B[38;5;241m-\u001B[39m\u001B[38;5;241m>\u001B[39m \u001B[38;5;28;01mNone\u001B[39;00m:\n\u001B[0;32m    384\u001B[0m \u001B[38;5;250m    \u001B[39m\u001B[38;5;124;03m\"\"\"Optimize an objective function.\u001B[39;00m\n\u001B[0;32m    385\u001B[0m \n\u001B[0;32m    386\u001B[0m \u001B[38;5;124;03m    Optimization is done by choosing a suitable set of hyperparameter values from a given\u001B[39;00m\n\u001B[1;32m   (...)\u001B[0m\n\u001B[0;32m    473\u001B[0m \u001B[38;5;124;03m            If nested invocation of this method occurs.\u001B[39;00m\n\u001B[0;32m    474\u001B[0m \u001B[38;5;124;03m    \"\"\"\u001B[39;00m\n\u001B[1;32m--> 475\u001B[0m     \u001B[43m_optimize\u001B[49m\u001B[43m(\u001B[49m\n\u001B[0;32m    476\u001B[0m \u001B[43m        \u001B[49m\u001B[43mstudy\u001B[49m\u001B[38;5;241;43m=\u001B[39;49m\u001B[38;5;28;43mself\u001B[39;49m\u001B[43m,\u001B[49m\n\u001B[0;32m    477\u001B[0m \u001B[43m        \u001B[49m\u001B[43mfunc\u001B[49m\u001B[38;5;241;43m=\u001B[39;49m\u001B[43mfunc\u001B[49m\u001B[43m,\u001B[49m\n\u001B[0;32m    478\u001B[0m \u001B[43m        \u001B[49m\u001B[43mn_trials\u001B[49m\u001B[38;5;241;43m=\u001B[39;49m\u001B[43mn_trials\u001B[49m\u001B[43m,\u001B[49m\n\u001B[0;32m    479\u001B[0m \u001B[43m        \u001B[49m\u001B[43mtimeout\u001B[49m\u001B[38;5;241;43m=\u001B[39;49m\u001B[43mtimeout\u001B[49m\u001B[43m,\u001B[49m\n\u001B[0;32m    480\u001B[0m \u001B[43m        \u001B[49m\u001B[43mn_jobs\u001B[49m\u001B[38;5;241;43m=\u001B[39;49m\u001B[43mn_jobs\u001B[49m\u001B[43m,\u001B[49m\n\u001B[0;32m    481\u001B[0m \u001B[43m        \u001B[49m\u001B[43mcatch\u001B[49m\u001B[38;5;241;43m=\u001B[39;49m\u001B[38;5;28;43mtuple\u001B[39;49m\u001B[43m(\u001B[49m\u001B[43mcatch\u001B[49m\u001B[43m)\u001B[49m\u001B[43m \u001B[49m\u001B[38;5;28;43;01mif\u001B[39;49;00m\u001B[43m \u001B[49m\u001B[38;5;28;43misinstance\u001B[39;49m\u001B[43m(\u001B[49m\u001B[43mcatch\u001B[49m\u001B[43m,\u001B[49m\u001B[43m \u001B[49m\u001B[43mIterable\u001B[49m\u001B[43m)\u001B[49m\u001B[43m \u001B[49m\u001B[38;5;28;43;01melse\u001B[39;49;00m\u001B[43m \u001B[49m\u001B[43m(\u001B[49m\u001B[43mcatch\u001B[49m\u001B[43m,\u001B[49m\u001B[43m)\u001B[49m\u001B[43m,\u001B[49m\n\u001B[0;32m    482\u001B[0m \u001B[43m        \u001B[49m\u001B[43mcallbacks\u001B[49m\u001B[38;5;241;43m=\u001B[39;49m\u001B[43mcallbacks\u001B[49m\u001B[43m,\u001B[49m\n\u001B[0;32m    483\u001B[0m \u001B[43m        \u001B[49m\u001B[43mgc_after_trial\u001B[49m\u001B[38;5;241;43m=\u001B[39;49m\u001B[43mgc_after_trial\u001B[49m\u001B[43m,\u001B[49m\n\u001B[0;32m    484\u001B[0m \u001B[43m        \u001B[49m\u001B[43mshow_progress_bar\u001B[49m\u001B[38;5;241;43m=\u001B[39;49m\u001B[43mshow_progress_bar\u001B[49m\u001B[43m,\u001B[49m\n\u001B[0;32m    485\u001B[0m \u001B[43m    \u001B[49m\u001B[43m)\u001B[49m\n",
      "File \u001B[1;32m~\\AppData\\Local\\Packages\\PythonSoftwareFoundation.Python.3.11_qbz5n2kfra8p0\\LocalCache\\local-packages\\Python311\\site-packages\\optuna\\study\\_optimize.py:63\u001B[0m, in \u001B[0;36m_optimize\u001B[1;34m(study, func, n_trials, timeout, n_jobs, catch, callbacks, gc_after_trial, show_progress_bar)\u001B[0m\n\u001B[0;32m     61\u001B[0m \u001B[38;5;28;01mtry\u001B[39;00m:\n\u001B[0;32m     62\u001B[0m     \u001B[38;5;28;01mif\u001B[39;00m n_jobs \u001B[38;5;241m==\u001B[39m \u001B[38;5;241m1\u001B[39m:\n\u001B[1;32m---> 63\u001B[0m         \u001B[43m_optimize_sequential\u001B[49m\u001B[43m(\u001B[49m\n\u001B[0;32m     64\u001B[0m \u001B[43m            \u001B[49m\u001B[43mstudy\u001B[49m\u001B[43m,\u001B[49m\n\u001B[0;32m     65\u001B[0m \u001B[43m            \u001B[49m\u001B[43mfunc\u001B[49m\u001B[43m,\u001B[49m\n\u001B[0;32m     66\u001B[0m \u001B[43m            \u001B[49m\u001B[43mn_trials\u001B[49m\u001B[43m,\u001B[49m\n\u001B[0;32m     67\u001B[0m \u001B[43m            \u001B[49m\u001B[43mtimeout\u001B[49m\u001B[43m,\u001B[49m\n\u001B[0;32m     68\u001B[0m \u001B[43m            \u001B[49m\u001B[43mcatch\u001B[49m\u001B[43m,\u001B[49m\n\u001B[0;32m     69\u001B[0m \u001B[43m            \u001B[49m\u001B[43mcallbacks\u001B[49m\u001B[43m,\u001B[49m\n\u001B[0;32m     70\u001B[0m \u001B[43m            \u001B[49m\u001B[43mgc_after_trial\u001B[49m\u001B[43m,\u001B[49m\n\u001B[0;32m     71\u001B[0m \u001B[43m            \u001B[49m\u001B[43mreseed_sampler_rng\u001B[49m\u001B[38;5;241;43m=\u001B[39;49m\u001B[38;5;28;43;01mFalse\u001B[39;49;00m\u001B[43m,\u001B[49m\n\u001B[0;32m     72\u001B[0m \u001B[43m            \u001B[49m\u001B[43mtime_start\u001B[49m\u001B[38;5;241;43m=\u001B[39;49m\u001B[38;5;28;43;01mNone\u001B[39;49;00m\u001B[43m,\u001B[49m\n\u001B[0;32m     73\u001B[0m \u001B[43m            \u001B[49m\u001B[43mprogress_bar\u001B[49m\u001B[38;5;241;43m=\u001B[39;49m\u001B[43mprogress_bar\u001B[49m\u001B[43m,\u001B[49m\n\u001B[0;32m     74\u001B[0m \u001B[43m        \u001B[49m\u001B[43m)\u001B[49m\n\u001B[0;32m     75\u001B[0m     \u001B[38;5;28;01melse\u001B[39;00m:\n\u001B[0;32m     76\u001B[0m         \u001B[38;5;28;01mif\u001B[39;00m n_jobs \u001B[38;5;241m==\u001B[39m \u001B[38;5;241m-\u001B[39m\u001B[38;5;241m1\u001B[39m:\n",
      "File \u001B[1;32m~\\AppData\\Local\\Packages\\PythonSoftwareFoundation.Python.3.11_qbz5n2kfra8p0\\LocalCache\\local-packages\\Python311\\site-packages\\optuna\\study\\_optimize.py:160\u001B[0m, in \u001B[0;36m_optimize_sequential\u001B[1;34m(study, func, n_trials, timeout, catch, callbacks, gc_after_trial, reseed_sampler_rng, time_start, progress_bar)\u001B[0m\n\u001B[0;32m    157\u001B[0m         \u001B[38;5;28;01mbreak\u001B[39;00m\n\u001B[0;32m    159\u001B[0m \u001B[38;5;28;01mtry\u001B[39;00m:\n\u001B[1;32m--> 160\u001B[0m     frozen_trial \u001B[38;5;241m=\u001B[39m \u001B[43m_run_trial\u001B[49m\u001B[43m(\u001B[49m\u001B[43mstudy\u001B[49m\u001B[43m,\u001B[49m\u001B[43m \u001B[49m\u001B[43mfunc\u001B[49m\u001B[43m,\u001B[49m\u001B[43m \u001B[49m\u001B[43mcatch\u001B[49m\u001B[43m)\u001B[49m\n\u001B[0;32m    161\u001B[0m \u001B[38;5;28;01mfinally\u001B[39;00m:\n\u001B[0;32m    162\u001B[0m     \u001B[38;5;66;03m# The following line mitigates memory problems that can be occurred in some\u001B[39;00m\n\u001B[0;32m    163\u001B[0m     \u001B[38;5;66;03m# environments (e.g., services that use computing containers such as GitHub Actions).\u001B[39;00m\n\u001B[0;32m    164\u001B[0m     \u001B[38;5;66;03m# Please refer to the following PR for further details:\u001B[39;00m\n\u001B[0;32m    165\u001B[0m     \u001B[38;5;66;03m# https://github.com/optuna/optuna/pull/325.\u001B[39;00m\n\u001B[0;32m    166\u001B[0m     \u001B[38;5;28;01mif\u001B[39;00m gc_after_trial:\n",
      "File \u001B[1;32m~\\AppData\\Local\\Packages\\PythonSoftwareFoundation.Python.3.11_qbz5n2kfra8p0\\LocalCache\\local-packages\\Python311\\site-packages\\optuna\\study\\_optimize.py:248\u001B[0m, in \u001B[0;36m_run_trial\u001B[1;34m(study, func, catch)\u001B[0m\n\u001B[0;32m    241\u001B[0m         \u001B[38;5;28;01massert\u001B[39;00m \u001B[38;5;28;01mFalse\u001B[39;00m, \u001B[38;5;124m\"\u001B[39m\u001B[38;5;124mShould not reach.\u001B[39m\u001B[38;5;124m\"\u001B[39m\n\u001B[0;32m    243\u001B[0m \u001B[38;5;28;01mif\u001B[39;00m (\n\u001B[0;32m    244\u001B[0m     frozen_trial\u001B[38;5;241m.\u001B[39mstate \u001B[38;5;241m==\u001B[39m TrialState\u001B[38;5;241m.\u001B[39mFAIL\n\u001B[0;32m    245\u001B[0m     \u001B[38;5;129;01mand\u001B[39;00m func_err \u001B[38;5;129;01mis\u001B[39;00m \u001B[38;5;129;01mnot\u001B[39;00m \u001B[38;5;28;01mNone\u001B[39;00m\n\u001B[0;32m    246\u001B[0m     \u001B[38;5;129;01mand\u001B[39;00m \u001B[38;5;129;01mnot\u001B[39;00m \u001B[38;5;28misinstance\u001B[39m(func_err, catch)\n\u001B[0;32m    247\u001B[0m ):\n\u001B[1;32m--> 248\u001B[0m     \u001B[38;5;28;01mraise\u001B[39;00m func_err\n\u001B[0;32m    249\u001B[0m \u001B[38;5;28;01mreturn\u001B[39;00m frozen_trial\n",
      "File \u001B[1;32m~\\AppData\\Local\\Packages\\PythonSoftwareFoundation.Python.3.11_qbz5n2kfra8p0\\LocalCache\\local-packages\\Python311\\site-packages\\optuna\\study\\_optimize.py:197\u001B[0m, in \u001B[0;36m_run_trial\u001B[1;34m(study, func, catch)\u001B[0m\n\u001B[0;32m    195\u001B[0m \u001B[38;5;28;01mwith\u001B[39;00m get_heartbeat_thread(trial\u001B[38;5;241m.\u001B[39m_trial_id, study\u001B[38;5;241m.\u001B[39m_storage):\n\u001B[0;32m    196\u001B[0m     \u001B[38;5;28;01mtry\u001B[39;00m:\n\u001B[1;32m--> 197\u001B[0m         value_or_values \u001B[38;5;241m=\u001B[39m \u001B[43mfunc\u001B[49m\u001B[43m(\u001B[49m\u001B[43mtrial\u001B[49m\u001B[43m)\u001B[49m\n\u001B[0;32m    198\u001B[0m     \u001B[38;5;28;01mexcept\u001B[39;00m exceptions\u001B[38;5;241m.\u001B[39mTrialPruned \u001B[38;5;28;01mas\u001B[39;00m e:\n\u001B[0;32m    199\u001B[0m         \u001B[38;5;66;03m# TODO(mamu): Handle multi-objective cases.\u001B[39;00m\n\u001B[0;32m    200\u001B[0m         state \u001B[38;5;241m=\u001B[39m TrialState\u001B[38;5;241m.\u001B[39mPRUNED\n",
      "Cell \u001B[1;32mIn[17], line 52\u001B[0m, in \u001B[0;36mobjective\u001B[1;34m(trial)\u001B[0m\n\u001B[0;32m     39\u001B[0m \u001B[38;5;28;01mdef\u001B[39;00m \u001B[38;5;21mobjective\u001B[39m(trial):\n\u001B[0;32m     40\u001B[0m     params \u001B[38;5;241m=\u001B[39m {\n\u001B[0;32m     41\u001B[0m         \u001B[38;5;124m'\u001B[39m\u001B[38;5;124msubsample_cols\u001B[39m\u001B[38;5;124m'\u001B[39m: trial\u001B[38;5;241m.\u001B[39msuggest_float(\u001B[38;5;124m'\u001B[39m\u001B[38;5;124msubsample_cols\u001B[39m\u001B[38;5;124m'\u001B[39m, \u001B[38;5;241m0.6\u001B[39m, \u001B[38;5;241m0.8\u001B[39m),\n\u001B[0;32m     42\u001B[0m         \u001B[38;5;124m'\u001B[39m\u001B[38;5;124mmin_child_weight\u001B[39m\u001B[38;5;124m'\u001B[39m: trial\u001B[38;5;241m.\u001B[39msuggest_int(\u001B[38;5;124m'\u001B[39m\u001B[38;5;124mmin_child_weight\u001B[39m\u001B[38;5;124m'\u001B[39m, \u001B[38;5;241m1\u001B[39m, \u001B[38;5;241m10\u001B[39m),\n\u001B[1;32m   (...)\u001B[0m\n\u001B[0;32m     49\u001B[0m         \u001B[38;5;124m'\u001B[39m\u001B[38;5;124meps\u001B[39m\u001B[38;5;124m'\u001B[39m: trial\u001B[38;5;241m.\u001B[39msuggest_float(\u001B[38;5;124m'\u001B[39m\u001B[38;5;124meps\u001B[39m\u001B[38;5;124m'\u001B[39m, \u001B[38;5;241m0.08\u001B[39m, \u001B[38;5;241m0.1\u001B[39m)\n\u001B[0;32m     50\u001B[0m     }\n\u001B[1;32m---> 52\u001B[0m     avg_val_rmse, best_model, avg_cv_rmse \u001B[38;5;241m=\u001B[39m  \u001B[43mcross_validation\u001B[49m\u001B[43m(\u001B[49m\u001B[43mX_train\u001B[49m\u001B[43m,\u001B[49m\u001B[43m \u001B[49m\u001B[43my_train\u001B[49m\u001B[43m,\u001B[49m\u001B[43m \u001B[49m\u001B[43mX_val\u001B[49m\u001B[43m,\u001B[49m\u001B[43m \u001B[49m\u001B[43my_val\u001B[49m\u001B[43m,\u001B[49m\u001B[43m \u001B[49m\u001B[43mn_splits\u001B[49m\u001B[38;5;241;43m=\u001B[39;49m\u001B[38;5;241;43m5\u001B[39;49m\u001B[43m,\u001B[49m\u001B[43m \u001B[49m\u001B[38;5;241;43m*\u001B[39;49m\u001B[38;5;241;43m*\u001B[39;49m\u001B[43mparams\u001B[49m\u001B[43m)\u001B[49m\n\u001B[0;32m     53\u001B[0m     \u001B[38;5;28;01mreturn\u001B[39;00m avg_val_rmse, best_model, avg_cv_rmse\n",
      "Cell \u001B[1;32mIn[17], line 14\u001B[0m, in \u001B[0;36mcross_validation\u001B[1;34m(X_train, y_train, X_val, y_val, n_splits, **kwargs)\u001B[0m\n\u001B[0;32m     12\u001B[0m \u001B[38;5;28mprint\u001B[39m(\u001B[38;5;124mf\u001B[39m\u001B[38;5;124m\"\u001B[39m\u001B[38;5;124mEnd task input\u001B[39m\u001B[38;5;124m\"\u001B[39m)\n\u001B[0;32m     13\u001B[0m model \u001B[38;5;241m=\u001B[39m xgb()\n\u001B[1;32m---> 14\u001B[0m \u001B[43mmodel\u001B[49m\u001B[38;5;241;43m.\u001B[39;49m\u001B[43mfit\u001B[49m\u001B[43m(\u001B[49m\u001B[43mX_fold_train\u001B[49m\u001B[43m,\u001B[49m\u001B[43m \u001B[49m\u001B[43my_fold_train\u001B[49m\u001B[43m,\u001B[49m\u001B[43m \u001B[49m\u001B[38;5;241;43m*\u001B[39;49m\u001B[38;5;241;43m*\u001B[39;49m\u001B[43mkwargs\u001B[49m\u001B[43m)\u001B[49m\n\u001B[0;32m     15\u001B[0m \u001B[38;5;28mprint\u001B[39m(\u001B[38;5;124mf\u001B[39m\u001B[38;5;124m\"\u001B[39m\u001B[38;5;124mEnd task fit\u001B[39m\u001B[38;5;124m\"\u001B[39m)\n\u001B[0;32m     16\u001B[0m y_pred_fold_test \u001B[38;5;241m=\u001B[39m model\u001B[38;5;241m.\u001B[39mpredict(X_fold_test)\n",
      "File \u001B[1;32mD:\\Predict-employee-attrition-rate\\Method\\GradientBoost.py:169\u001B[0m, in \u001B[0;36mXGBoostRegressor.fit\u001B[1;34m(self, X, y, subsample_cols, min_child_weight, depth, min_leaf, learning_rate, boosting_rounds, lambda_, gamma, eps)\u001B[0m\n\u001B[0;32m    167\u001B[0m Grad \u001B[38;5;241m=\u001B[39m \u001B[38;5;28mself\u001B[39m\u001B[38;5;241m.\u001B[39mgrad(\u001B[38;5;28mself\u001B[39m\u001B[38;5;241m.\u001B[39mbase_pred, \u001B[38;5;28mself\u001B[39m\u001B[38;5;241m.\u001B[39my)\n\u001B[0;32m    168\u001B[0m Hess \u001B[38;5;241m=\u001B[39m \u001B[38;5;28mself\u001B[39m\u001B[38;5;241m.\u001B[39mhess(\u001B[38;5;28mself\u001B[39m\u001B[38;5;241m.\u001B[39mbase_pred, \u001B[38;5;28mself\u001B[39m\u001B[38;5;241m.\u001B[39my)\n\u001B[1;32m--> 169\u001B[0m boosting_tree \u001B[38;5;241m=\u001B[39m \u001B[43mXGBoostTree\u001B[49m\u001B[43m(\u001B[49m\u001B[43m)\u001B[49m\u001B[38;5;241;43m.\u001B[39;49m\u001B[43mfit\u001B[49m\u001B[43m(\u001B[49m\u001B[38;5;28;43mself\u001B[39;49m\u001B[38;5;241;43m.\u001B[39;49m\u001B[43mX\u001B[49m\u001B[43m,\u001B[49m\u001B[43m \u001B[49m\u001B[43mGrad\u001B[49m\u001B[43m,\u001B[49m\u001B[43m \u001B[49m\u001B[43mHess\u001B[49m\u001B[43m,\u001B[49m\u001B[43m \u001B[49m\u001B[43mdepth\u001B[49m\u001B[38;5;241;43m=\u001B[39;49m\u001B[38;5;28;43mself\u001B[39;49m\u001B[38;5;241;43m.\u001B[39;49m\u001B[43mdepth\u001B[49m\u001B[43m,\u001B[49m\u001B[43m \u001B[49m\u001B[43mmin_leaf\u001B[49m\u001B[38;5;241;43m=\u001B[39;49m\u001B[38;5;28;43mself\u001B[39;49m\u001B[38;5;241;43m.\u001B[39;49m\u001B[43mmin_leaf\u001B[49m\u001B[43m,\u001B[49m\n\u001B[0;32m    170\u001B[0m \u001B[43m                                  \u001B[49m\u001B[43mlambda_\u001B[49m\u001B[38;5;241;43m=\u001B[39;49m\u001B[38;5;28;43mself\u001B[39;49m\u001B[38;5;241;43m.\u001B[39;49m\u001B[43mlambda_\u001B[49m\u001B[43m,\u001B[49m\u001B[43m \u001B[49m\u001B[43mgamma\u001B[49m\u001B[38;5;241;43m=\u001B[39;49m\u001B[38;5;28;43mself\u001B[39;49m\u001B[38;5;241;43m.\u001B[39;49m\u001B[43mgamma\u001B[49m\u001B[43m,\u001B[49m\u001B[43m \u001B[49m\u001B[43meps\u001B[49m\u001B[38;5;241;43m=\u001B[39;49m\u001B[38;5;28;43mself\u001B[39;49m\u001B[38;5;241;43m.\u001B[39;49m\u001B[43meps\u001B[49m\u001B[43m,\u001B[49m\n\u001B[0;32m    171\u001B[0m \u001B[43m                                  \u001B[49m\u001B[43mmin_child_weight\u001B[49m\u001B[38;5;241;43m=\u001B[39;49m\u001B[38;5;28;43mself\u001B[39;49m\u001B[38;5;241;43m.\u001B[39;49m\u001B[43mmin_child_weight\u001B[49m\u001B[43m,\u001B[49m\n\u001B[0;32m    172\u001B[0m \u001B[43m                                  \u001B[49m\u001B[43msubsample_cols\u001B[49m\u001B[38;5;241;43m=\u001B[39;49m\u001B[38;5;28;43mself\u001B[39;49m\u001B[38;5;241;43m.\u001B[39;49m\u001B[43msubsample_cols\u001B[49m\u001B[43m)\u001B[49m\n\u001B[0;32m    173\u001B[0m \u001B[38;5;28mself\u001B[39m\u001B[38;5;241m.\u001B[39mbase_pred \u001B[38;5;241m+\u001B[39m\u001B[38;5;241m=\u001B[39m \u001B[38;5;28mself\u001B[39m\u001B[38;5;241m.\u001B[39mlearning_rate \u001B[38;5;241m*\u001B[39m boosting_tree\u001B[38;5;241m.\u001B[39mpredict(\u001B[38;5;28mself\u001B[39m\u001B[38;5;241m.\u001B[39mX)\n\u001B[0;32m    174\u001B[0m \u001B[38;5;28mself\u001B[39m\u001B[38;5;241m.\u001B[39mestimators\u001B[38;5;241m.\u001B[39mappend(boosting_tree)\n",
      "File \u001B[1;32mD:\\Predict-employee-attrition-rate\\Method\\GradientBoost.py:131\u001B[0m, in \u001B[0;36mfit\u001B[1;34m(self, x, gradient, hessian, subsample_cols, min_leaf, min_child_weight, depth, lambda_, gamma, eps)\u001B[0m\n\u001B[0;32m      0\u001B[0m <Error retrieving source code with stack_data see ipython/ipython#13598>\n",
      "File \u001B[1;32mD:\\Predict-employee-attrition-rate\\Method\\GradientBoost.py:25\u001B[0m, in \u001B[0;36m__init__\u001B[1;34m(self, x, gradient, hessian, idxs, subsample_cols, min_leaf, min_child_weight, depth, lambda_, gamma, eps)\u001B[0m\n\u001B[0;32m     22\u001B[0m \u001B[38;5;28mself\u001B[39m\u001B[38;5;241m.\u001B[39mearly_stopping_rounds \u001B[38;5;241m=\u001B[39m \u001B[38;5;28;01mNone\u001B[39;00m\n\u001B[0;32m     23\u001B[0m \u001B[38;5;28mself\u001B[39m\u001B[38;5;241m.\u001B[39mcolumn_subsample \u001B[38;5;241m=\u001B[39m np\u001B[38;5;241m.\u001B[39mrandom\u001B[38;5;241m.\u001B[39mpermutation(\u001B[38;5;28mself\u001B[39m\u001B[38;5;241m.\u001B[39mcol_count)[:\u001B[38;5;28mround\u001B[39m(\u001B[38;5;28mself\u001B[39m\u001B[38;5;241m.\u001B[39msubsample_cols \u001B[38;5;241m*\u001B[39m \u001B[38;5;28mself\u001B[39m\u001B[38;5;241m.\u001B[39mcol_count)]\n\u001B[1;32m---> 25\u001B[0m \u001B[38;5;28mself\u001B[39m\u001B[38;5;241m.\u001B[39mval \u001B[38;5;241m=\u001B[39m \u001B[38;5;28mself\u001B[39m\u001B[38;5;241m.\u001B[39mcompute_gamma(\u001B[38;5;28mself\u001B[39m\u001B[38;5;241m.\u001B[39mgradient[\u001B[38;5;28mself\u001B[39m\u001B[38;5;241m.\u001B[39midxs], \u001B[38;5;28mself\u001B[39m\u001B[38;5;241m.\u001B[39mhessian[\u001B[38;5;28mself\u001B[39m\u001B[38;5;241m.\u001B[39midxs])\n\u001B[0;32m     27\u001B[0m \u001B[38;5;28mself\u001B[39m\u001B[38;5;241m.\u001B[39mscore \u001B[38;5;241m=\u001B[39m \u001B[38;5;28mfloat\u001B[39m(\u001B[38;5;124m'\u001B[39m\u001B[38;5;124m-inf\u001B[39m\u001B[38;5;124m'\u001B[39m)\n\u001B[0;32m     28\u001B[0m \u001B[38;5;28mself\u001B[39m\u001B[38;5;241m.\u001B[39mfind_varsplit()\n",
      "File \u001B[1;32mD:\\Predict-employee-attrition-rate\\Method\\GradientBoost.py:36\u001B[0m, in \u001B[0;36mfind_varsplit\u001B[1;34m(self)\u001B[0m\n\u001B[0;32m     34\u001B[0m \u001B[38;5;28;01mfor\u001B[39;00m c \u001B[38;5;129;01min\u001B[39;00m \u001B[38;5;28mself\u001B[39m\u001B[38;5;241m.\u001B[39mcolumn_subsample: \u001B[38;5;28mself\u001B[39m\u001B[38;5;241m.\u001B[39mfind_greedy_split(c)\n\u001B[0;32m     35\u001B[0m \u001B[38;5;28;01mif\u001B[39;00m \u001B[38;5;28mself\u001B[39m\u001B[38;5;241m.\u001B[39mis_leaf: \u001B[38;5;28;01mreturn\u001B[39;00m\n\u001B[1;32m---> 36\u001B[0m x \u001B[38;5;241m=\u001B[39m \u001B[38;5;28mself\u001B[39m\u001B[38;5;241m.\u001B[39msplit_col\n\u001B[0;32m     37\u001B[0m lhs \u001B[38;5;241m=\u001B[39m np\u001B[38;5;241m.\u001B[39mnonzero(x \u001B[38;5;241m<\u001B[39m\u001B[38;5;241m=\u001B[39m \u001B[38;5;28mself\u001B[39m\u001B[38;5;241m.\u001B[39msplit)[\u001B[38;5;241m0\u001B[39m]\n\u001B[0;32m     38\u001B[0m rhs \u001B[38;5;241m=\u001B[39m np\u001B[38;5;241m.\u001B[39mnonzero(x \u001B[38;5;241m>\u001B[39m \u001B[38;5;28mself\u001B[39m\u001B[38;5;241m.\u001B[39msplit)[\u001B[38;5;241m0\u001B[39m]\n",
      "File \u001B[1;32mD:\\Predict-employee-attrition-rate\\Method\\GradientBoost.py:25\u001B[0m, in \u001B[0;36m__init__\u001B[1;34m(self, x, gradient, hessian, idxs, subsample_cols, min_leaf, min_child_weight, depth, lambda_, gamma, eps)\u001B[0m\n\u001B[0;32m     22\u001B[0m \u001B[38;5;28mself\u001B[39m\u001B[38;5;241m.\u001B[39mearly_stopping_rounds \u001B[38;5;241m=\u001B[39m \u001B[38;5;28;01mNone\u001B[39;00m\n\u001B[0;32m     23\u001B[0m \u001B[38;5;28mself\u001B[39m\u001B[38;5;241m.\u001B[39mcolumn_subsample \u001B[38;5;241m=\u001B[39m np\u001B[38;5;241m.\u001B[39mrandom\u001B[38;5;241m.\u001B[39mpermutation(\u001B[38;5;28mself\u001B[39m\u001B[38;5;241m.\u001B[39mcol_count)[:\u001B[38;5;28mround\u001B[39m(\u001B[38;5;28mself\u001B[39m\u001B[38;5;241m.\u001B[39msubsample_cols \u001B[38;5;241m*\u001B[39m \u001B[38;5;28mself\u001B[39m\u001B[38;5;241m.\u001B[39mcol_count)]\n\u001B[1;32m---> 25\u001B[0m \u001B[38;5;28mself\u001B[39m\u001B[38;5;241m.\u001B[39mval \u001B[38;5;241m=\u001B[39m \u001B[38;5;28mself\u001B[39m\u001B[38;5;241m.\u001B[39mcompute_gamma(\u001B[38;5;28mself\u001B[39m\u001B[38;5;241m.\u001B[39mgradient[\u001B[38;5;28mself\u001B[39m\u001B[38;5;241m.\u001B[39midxs], \u001B[38;5;28mself\u001B[39m\u001B[38;5;241m.\u001B[39mhessian[\u001B[38;5;28mself\u001B[39m\u001B[38;5;241m.\u001B[39midxs])\n\u001B[0;32m     27\u001B[0m \u001B[38;5;28mself\u001B[39m\u001B[38;5;241m.\u001B[39mscore \u001B[38;5;241m=\u001B[39m \u001B[38;5;28mfloat\u001B[39m(\u001B[38;5;124m'\u001B[39m\u001B[38;5;124m-inf\u001B[39m\u001B[38;5;124m'\u001B[39m)\n\u001B[0;32m     28\u001B[0m \u001B[38;5;28mself\u001B[39m\u001B[38;5;241m.\u001B[39mfind_varsplit()\n",
      "File \u001B[1;32mD:\\Predict-employee-attrition-rate\\Method\\GradientBoost.py:39\u001B[0m, in \u001B[0;36mfind_varsplit\u001B[1;34m(self)\u001B[0m\n\u001B[0;32m     37\u001B[0m lhs \u001B[38;5;241m=\u001B[39m np\u001B[38;5;241m.\u001B[39mnonzero(x \u001B[38;5;241m<\u001B[39m\u001B[38;5;241m=\u001B[39m \u001B[38;5;28mself\u001B[39m\u001B[38;5;241m.\u001B[39msplit)[\u001B[38;5;241m0\u001B[39m]\n\u001B[0;32m     38\u001B[0m rhs \u001B[38;5;241m=\u001B[39m np\u001B[38;5;241m.\u001B[39mnonzero(x \u001B[38;5;241m>\u001B[39m \u001B[38;5;28mself\u001B[39m\u001B[38;5;241m.\u001B[39msplit)[\u001B[38;5;241m0\u001B[39m]\n\u001B[1;32m---> 39\u001B[0m \u001B[38;5;28mself\u001B[39m\u001B[38;5;241m.\u001B[39mlhs \u001B[38;5;241m=\u001B[39m \u001B[43mNode\u001B[49m\u001B[43m(\u001B[49m\u001B[43mx\u001B[49m\u001B[38;5;241;43m=\u001B[39;49m\u001B[38;5;28;43mself\u001B[39;49m\u001B[38;5;241;43m.\u001B[39;49m\u001B[43mx\u001B[49m\u001B[43m,\u001B[49m\u001B[43m \u001B[49m\u001B[43mgradient\u001B[49m\u001B[38;5;241;43m=\u001B[39;49m\u001B[38;5;28;43mself\u001B[39;49m\u001B[38;5;241;43m.\u001B[39;49m\u001B[43mgradient\u001B[49m\u001B[43m,\u001B[49m\u001B[43m \u001B[49m\u001B[43mhessian\u001B[49m\u001B[38;5;241;43m=\u001B[39;49m\u001B[38;5;28;43mself\u001B[39;49m\u001B[38;5;241;43m.\u001B[39;49m\u001B[43mhessian\u001B[49m\u001B[43m,\u001B[49m\u001B[43m \u001B[49m\u001B[43midxs\u001B[49m\u001B[38;5;241;43m=\u001B[39;49m\u001B[38;5;28;43mself\u001B[39;49m\u001B[38;5;241;43m.\u001B[39;49m\u001B[43midxs\u001B[49m\u001B[43m[\u001B[49m\u001B[43mlhs\u001B[49m\u001B[43m]\u001B[49m\u001B[43m,\u001B[49m\n\u001B[0;32m     40\u001B[0m \u001B[43m                \u001B[49m\u001B[43mmin_leaf\u001B[49m\u001B[38;5;241;43m=\u001B[39;49m\u001B[38;5;28;43mself\u001B[39;49m\u001B[38;5;241;43m.\u001B[39;49m\u001B[43mmin_leaf\u001B[49m\u001B[43m,\u001B[49m\u001B[43m \u001B[49m\u001B[43mdepth\u001B[49m\u001B[38;5;241;43m=\u001B[39;49m\u001B[38;5;28;43mself\u001B[39;49m\u001B[38;5;241;43m.\u001B[39;49m\u001B[43mdepth\u001B[49m\u001B[43m \u001B[49m\u001B[38;5;241;43m-\u001B[39;49m\u001B[43m \u001B[49m\u001B[38;5;241;43m1\u001B[39;49m\u001B[43m,\u001B[49m\u001B[43m \u001B[49m\u001B[43mlambda_\u001B[49m\u001B[38;5;241;43m=\u001B[39;49m\u001B[38;5;28;43mself\u001B[39;49m\u001B[38;5;241;43m.\u001B[39;49m\u001B[43mlambda_\u001B[49m\u001B[43m,\u001B[49m\u001B[43m \u001B[49m\u001B[43mgamma\u001B[49m\u001B[38;5;241;43m=\u001B[39;49m\u001B[38;5;28;43mself\u001B[39;49m\u001B[38;5;241;43m.\u001B[39;49m\u001B[43mgamma\u001B[49m\u001B[43m,\u001B[49m\n\u001B[0;32m     41\u001B[0m \u001B[43m                \u001B[49m\u001B[43mmin_child_weight\u001B[49m\u001B[38;5;241;43m=\u001B[39;49m\u001B[38;5;28;43mself\u001B[39;49m\u001B[38;5;241;43m.\u001B[39;49m\u001B[43mmin_child_weight\u001B[49m\u001B[43m,\u001B[49m\u001B[43m \u001B[49m\u001B[43meps\u001B[49m\u001B[38;5;241;43m=\u001B[39;49m\u001B[38;5;28;43mself\u001B[39;49m\u001B[38;5;241;43m.\u001B[39;49m\u001B[43meps\u001B[49m\u001B[43m,\u001B[49m\u001B[43m \u001B[49m\u001B[43msubsample_cols\u001B[49m\u001B[38;5;241;43m=\u001B[39;49m\u001B[38;5;28;43mself\u001B[39;49m\u001B[38;5;241;43m.\u001B[39;49m\u001B[43msubsample_cols\u001B[49m\u001B[43m)\u001B[49m\n\u001B[0;32m     42\u001B[0m \u001B[38;5;28mself\u001B[39m\u001B[38;5;241m.\u001B[39mrhs \u001B[38;5;241m=\u001B[39m Node(x\u001B[38;5;241m=\u001B[39m\u001B[38;5;28mself\u001B[39m\u001B[38;5;241m.\u001B[39mx, gradient\u001B[38;5;241m=\u001B[39m\u001B[38;5;28mself\u001B[39m\u001B[38;5;241m.\u001B[39mgradient, hessian\u001B[38;5;241m=\u001B[39m\u001B[38;5;28mself\u001B[39m\u001B[38;5;241m.\u001B[39mhessian, idxs\u001B[38;5;241m=\u001B[39m\u001B[38;5;28mself\u001B[39m\u001B[38;5;241m.\u001B[39midxs[rhs],\n\u001B[0;32m     43\u001B[0m                 min_leaf\u001B[38;5;241m=\u001B[39m\u001B[38;5;28mself\u001B[39m\u001B[38;5;241m.\u001B[39mmin_leaf, depth\u001B[38;5;241m=\u001B[39m\u001B[38;5;28mself\u001B[39m\u001B[38;5;241m.\u001B[39mdepth \u001B[38;5;241m-\u001B[39m \u001B[38;5;241m1\u001B[39m, lambda_\u001B[38;5;241m=\u001B[39m\u001B[38;5;28mself\u001B[39m\u001B[38;5;241m.\u001B[39mlambda_, gamma\u001B[38;5;241m=\u001B[39m\u001B[38;5;28mself\u001B[39m\u001B[38;5;241m.\u001B[39mgamma,\n\u001B[0;32m     44\u001B[0m                 min_child_weight\u001B[38;5;241m=\u001B[39m\u001B[38;5;28mself\u001B[39m\u001B[38;5;241m.\u001B[39mmin_child_weight, eps\u001B[38;5;241m=\u001B[39m\u001B[38;5;28mself\u001B[39m\u001B[38;5;241m.\u001B[39meps, subsample_cols\u001B[38;5;241m=\u001B[39m\u001B[38;5;28mself\u001B[39m\u001B[38;5;241m.\u001B[39msubsample_cols)\n",
      "File \u001B[1;32mD:\\Predict-employee-attrition-rate\\Method\\GradientBoost.py:25\u001B[0m, in \u001B[0;36m__init__\u001B[1;34m(self, x, gradient, hessian, idxs, subsample_cols, min_leaf, min_child_weight, depth, lambda_, gamma, eps)\u001B[0m\n\u001B[0;32m     22\u001B[0m \u001B[38;5;28mself\u001B[39m\u001B[38;5;241m.\u001B[39mearly_stopping_rounds \u001B[38;5;241m=\u001B[39m \u001B[38;5;28;01mNone\u001B[39;00m\n\u001B[0;32m     23\u001B[0m \u001B[38;5;28mself\u001B[39m\u001B[38;5;241m.\u001B[39mcolumn_subsample \u001B[38;5;241m=\u001B[39m np\u001B[38;5;241m.\u001B[39mrandom\u001B[38;5;241m.\u001B[39mpermutation(\u001B[38;5;28mself\u001B[39m\u001B[38;5;241m.\u001B[39mcol_count)[:\u001B[38;5;28mround\u001B[39m(\u001B[38;5;28mself\u001B[39m\u001B[38;5;241m.\u001B[39msubsample_cols \u001B[38;5;241m*\u001B[39m \u001B[38;5;28mself\u001B[39m\u001B[38;5;241m.\u001B[39mcol_count)]\n\u001B[1;32m---> 25\u001B[0m \u001B[38;5;28mself\u001B[39m\u001B[38;5;241m.\u001B[39mval \u001B[38;5;241m=\u001B[39m \u001B[38;5;28mself\u001B[39m\u001B[38;5;241m.\u001B[39mcompute_gamma(\u001B[38;5;28mself\u001B[39m\u001B[38;5;241m.\u001B[39mgradient[\u001B[38;5;28mself\u001B[39m\u001B[38;5;241m.\u001B[39midxs], \u001B[38;5;28mself\u001B[39m\u001B[38;5;241m.\u001B[39mhessian[\u001B[38;5;28mself\u001B[39m\u001B[38;5;241m.\u001B[39midxs])\n\u001B[0;32m     27\u001B[0m \u001B[38;5;28mself\u001B[39m\u001B[38;5;241m.\u001B[39mscore \u001B[38;5;241m=\u001B[39m \u001B[38;5;28mfloat\u001B[39m(\u001B[38;5;124m'\u001B[39m\u001B[38;5;124m-inf\u001B[39m\u001B[38;5;124m'\u001B[39m)\n\u001B[0;32m     28\u001B[0m \u001B[38;5;28mself\u001B[39m\u001B[38;5;241m.\u001B[39mfind_varsplit()\n",
      "File \u001B[1;32mD:\\Predict-employee-attrition-rate\\Method\\GradientBoost.py:36\u001B[0m, in \u001B[0;36mfind_varsplit\u001B[1;34m(self)\u001B[0m\n\u001B[0;32m     34\u001B[0m \u001B[38;5;28;01mfor\u001B[39;00m c \u001B[38;5;129;01min\u001B[39;00m \u001B[38;5;28mself\u001B[39m\u001B[38;5;241m.\u001B[39mcolumn_subsample: \u001B[38;5;28mself\u001B[39m\u001B[38;5;241m.\u001B[39mfind_greedy_split(c)\n\u001B[0;32m     35\u001B[0m \u001B[38;5;28;01mif\u001B[39;00m \u001B[38;5;28mself\u001B[39m\u001B[38;5;241m.\u001B[39mis_leaf: \u001B[38;5;28;01mreturn\u001B[39;00m\n\u001B[1;32m---> 36\u001B[0m x \u001B[38;5;241m=\u001B[39m \u001B[38;5;28mself\u001B[39m\u001B[38;5;241m.\u001B[39msplit_col\n\u001B[0;32m     37\u001B[0m lhs \u001B[38;5;241m=\u001B[39m np\u001B[38;5;241m.\u001B[39mnonzero(x \u001B[38;5;241m<\u001B[39m\u001B[38;5;241m=\u001B[39m \u001B[38;5;28mself\u001B[39m\u001B[38;5;241m.\u001B[39msplit)[\u001B[38;5;241m0\u001B[39m]\n\u001B[0;32m     38\u001B[0m rhs \u001B[38;5;241m=\u001B[39m np\u001B[38;5;241m.\u001B[39mnonzero(x \u001B[38;5;241m>\u001B[39m \u001B[38;5;28mself\u001B[39m\u001B[38;5;241m.\u001B[39msplit)[\u001B[38;5;241m0\u001B[39m]\n",
      "File \u001B[1;32mD:\\Predict-employee-attrition-rate\\Method\\GradientBoost.py:25\u001B[0m, in \u001B[0;36m__init__\u001B[1;34m(self, x, gradient, hessian, idxs, subsample_cols, min_leaf, min_child_weight, depth, lambda_, gamma, eps)\u001B[0m\n\u001B[0;32m     22\u001B[0m \u001B[38;5;28mself\u001B[39m\u001B[38;5;241m.\u001B[39mearly_stopping_rounds \u001B[38;5;241m=\u001B[39m \u001B[38;5;28;01mNone\u001B[39;00m\n\u001B[0;32m     23\u001B[0m \u001B[38;5;28mself\u001B[39m\u001B[38;5;241m.\u001B[39mcolumn_subsample \u001B[38;5;241m=\u001B[39m np\u001B[38;5;241m.\u001B[39mrandom\u001B[38;5;241m.\u001B[39mpermutation(\u001B[38;5;28mself\u001B[39m\u001B[38;5;241m.\u001B[39mcol_count)[:\u001B[38;5;28mround\u001B[39m(\u001B[38;5;28mself\u001B[39m\u001B[38;5;241m.\u001B[39msubsample_cols \u001B[38;5;241m*\u001B[39m \u001B[38;5;28mself\u001B[39m\u001B[38;5;241m.\u001B[39mcol_count)]\n\u001B[1;32m---> 25\u001B[0m \u001B[38;5;28mself\u001B[39m\u001B[38;5;241m.\u001B[39mval \u001B[38;5;241m=\u001B[39m \u001B[38;5;28mself\u001B[39m\u001B[38;5;241m.\u001B[39mcompute_gamma(\u001B[38;5;28mself\u001B[39m\u001B[38;5;241m.\u001B[39mgradient[\u001B[38;5;28mself\u001B[39m\u001B[38;5;241m.\u001B[39midxs], \u001B[38;5;28mself\u001B[39m\u001B[38;5;241m.\u001B[39mhessian[\u001B[38;5;28mself\u001B[39m\u001B[38;5;241m.\u001B[39midxs])\n\u001B[0;32m     27\u001B[0m \u001B[38;5;28mself\u001B[39m\u001B[38;5;241m.\u001B[39mscore \u001B[38;5;241m=\u001B[39m \u001B[38;5;28mfloat\u001B[39m(\u001B[38;5;124m'\u001B[39m\u001B[38;5;124m-inf\u001B[39m\u001B[38;5;124m'\u001B[39m)\n\u001B[0;32m     28\u001B[0m \u001B[38;5;28mself\u001B[39m\u001B[38;5;241m.\u001B[39mfind_varsplit()\n",
      "File \u001B[1;32mD:\\Predict-employee-attrition-rate\\Method\\GradientBoost.py:31\u001B[0m, in \u001B[0;36mfind_varsplit\u001B[1;34m(self)\u001B[0m\n\u001B[0;32m     30\u001B[0m \u001B[38;5;28;01mdef\u001B[39;00m \u001B[38;5;21mcompute_gamma\u001B[39m(\u001B[38;5;28mself\u001B[39m, gradient, hessian):\n\u001B[1;32m---> 31\u001B[0m     \u001B[38;5;28;01mreturn\u001B[39;00m (\u001B[38;5;241m-\u001B[39mnp\u001B[38;5;241m.\u001B[39msum(gradient) \u001B[38;5;241m/\u001B[39m (np\u001B[38;5;241m.\u001B[39msum(hessian) \u001B[38;5;241m+\u001B[39m \u001B[38;5;28mself\u001B[39m\u001B[38;5;241m.\u001B[39mlambda_))\n",
      "File \u001B[1;32mD:\\Predict-employee-attrition-rate\\Method\\GradientBoost.py:56\u001B[0m, in \u001B[0;36mfind_greedy_split\u001B[1;34m(self, var_idx)\u001B[0m\n\u001B[0;32m     53\u001B[0m lhs_indices \u001B[38;5;241m=\u001B[39m np\u001B[38;5;241m.\u001B[39mnonzero(x \u001B[38;5;241m<\u001B[39m\u001B[38;5;241m=\u001B[39m x[r])[\u001B[38;5;241m0\u001B[39m]\n\u001B[0;32m     54\u001B[0m rhs_indices \u001B[38;5;241m=\u001B[39m np\u001B[38;5;241m.\u001B[39mnonzero(x \u001B[38;5;241m>\u001B[39m x[r])[\u001B[38;5;241m0\u001B[39m]\n\u001B[0;32m     55\u001B[0m \u001B[38;5;28;01mif\u001B[39;00m (rhs\u001B[38;5;241m.\u001B[39msum() \u001B[38;5;241m<\u001B[39m \u001B[38;5;28mself\u001B[39m\u001B[38;5;241m.\u001B[39mmin_leaf \u001B[38;5;129;01mor\u001B[39;00m lhs\u001B[38;5;241m.\u001B[39msum() \u001B[38;5;241m<\u001B[39m \u001B[38;5;28mself\u001B[39m\u001B[38;5;241m.\u001B[39mmin_leaf\n\u001B[1;32m---> 56\u001B[0m         \u001B[38;5;129;01mor\u001B[39;00m \u001B[38;5;28mself\u001B[39m\u001B[38;5;241m.\u001B[39mhessian[lhs_indices]\u001B[38;5;241m.\u001B[39msum() \u001B[38;5;241m<\u001B[39m \u001B[38;5;28mself\u001B[39m\u001B[38;5;241m.\u001B[39mmin_child_weight\n\u001B[0;32m     57\u001B[0m         \u001B[38;5;129;01mor\u001B[39;00m \u001B[38;5;28mself\u001B[39m\u001B[38;5;241m.\u001B[39mhessian[rhs_indices]\u001B[38;5;241m.\u001B[39msum() \u001B[38;5;241m<\u001B[39m \u001B[38;5;28mself\u001B[39m\u001B[38;5;241m.\u001B[39mmin_child_weight): \u001B[38;5;28;01mcontinue\u001B[39;00m\n\u001B[0;32m     59\u001B[0m curr_score \u001B[38;5;241m=\u001B[39m \u001B[38;5;28mself\u001B[39m\u001B[38;5;241m.\u001B[39mgain(lhs, rhs)\n",
      "File \u001B[1;32mD:\\Predict-employee-attrition-rate\\Method\\GradientBoost.py:97\u001B[0m, in \u001B[0;36mgain\u001B[1;34m(self, lhs, rhs)\u001B[0m\n\u001B[0;32m     96\u001B[0m \u001B[38;5;28;01mdef\u001B[39;00m \u001B[38;5;21mgain\u001B[39m(\u001B[38;5;28mself\u001B[39m, lhs, rhs):\n\u001B[1;32m---> 97\u001B[0m     gradient \u001B[38;5;241m=\u001B[39m \u001B[38;5;28mself\u001B[39m\u001B[38;5;241m.\u001B[39mgradient[\u001B[38;5;28mself\u001B[39m\u001B[38;5;241m.\u001B[39midxs]\n\u001B[0;32m     98\u001B[0m     hessian \u001B[38;5;241m=\u001B[39m \u001B[38;5;28mself\u001B[39m\u001B[38;5;241m.\u001B[39mhessian[\u001B[38;5;28mself\u001B[39m\u001B[38;5;241m.\u001B[39midxs]\n\u001B[0;32m    100\u001B[0m     lhs_gradient \u001B[38;5;241m=\u001B[39m gradient[lhs]\u001B[38;5;241m.\u001B[39msum()\n",
      "File \u001B[1;32m~\\AppData\\Local\\Packages\\PythonSoftwareFoundation.Python.3.11_qbz5n2kfra8p0\\LocalCache\\local-packages\\Python311\\site-packages\\numpy\\core\\_methods.py:47\u001B[0m, in \u001B[0;36m_sum\u001B[1;34m(a, axis, dtype, out, keepdims, initial, where)\u001B[0m\n\u001B[0;32m     43\u001B[0m \u001B[38;5;28;01mdef\u001B[39;00m \u001B[38;5;21m_amin\u001B[39m(a, axis\u001B[38;5;241m=\u001B[39m\u001B[38;5;28;01mNone\u001B[39;00m, out\u001B[38;5;241m=\u001B[39m\u001B[38;5;28;01mNone\u001B[39;00m, keepdims\u001B[38;5;241m=\u001B[39m\u001B[38;5;28;01mFalse\u001B[39;00m,\n\u001B[0;32m     44\u001B[0m           initial\u001B[38;5;241m=\u001B[39m_NoValue, where\u001B[38;5;241m=\u001B[39m\u001B[38;5;28;01mTrue\u001B[39;00m):\n\u001B[0;32m     45\u001B[0m     \u001B[38;5;28;01mreturn\u001B[39;00m umr_minimum(a, axis, \u001B[38;5;28;01mNone\u001B[39;00m, out, keepdims, initial, where)\n\u001B[1;32m---> 47\u001B[0m \u001B[38;5;28;01mdef\u001B[39;00m \u001B[38;5;21m_sum\u001B[39m(a, axis\u001B[38;5;241m=\u001B[39m\u001B[38;5;28;01mNone\u001B[39;00m, dtype\u001B[38;5;241m=\u001B[39m\u001B[38;5;28;01mNone\u001B[39;00m, out\u001B[38;5;241m=\u001B[39m\u001B[38;5;28;01mNone\u001B[39;00m, keepdims\u001B[38;5;241m=\u001B[39m\u001B[38;5;28;01mFalse\u001B[39;00m,\n\u001B[0;32m     48\u001B[0m          initial\u001B[38;5;241m=\u001B[39m_NoValue, where\u001B[38;5;241m=\u001B[39m\u001B[38;5;28;01mTrue\u001B[39;00m):\n\u001B[0;32m     49\u001B[0m     \u001B[38;5;28;01mreturn\u001B[39;00m umr_sum(a, axis, dtype, out, keepdims, initial, where)\n\u001B[0;32m     51\u001B[0m \u001B[38;5;28;01mdef\u001B[39;00m \u001B[38;5;21m_prod\u001B[39m(a, axis\u001B[38;5;241m=\u001B[39m\u001B[38;5;28;01mNone\u001B[39;00m, dtype\u001B[38;5;241m=\u001B[39m\u001B[38;5;28;01mNone\u001B[39;00m, out\u001B[38;5;241m=\u001B[39m\u001B[38;5;28;01mNone\u001B[39;00m, keepdims\u001B[38;5;241m=\u001B[39m\u001B[38;5;28;01mFalse\u001B[39;00m,\n\u001B[0;32m     52\u001B[0m           initial\u001B[38;5;241m=\u001B[39m_NoValue, where\u001B[38;5;241m=\u001B[39m\u001B[38;5;28;01mTrue\u001B[39;00m):\n",
      "\u001B[1;31mKeyboardInterrupt\u001B[0m: "
     ]
    }
   ],
   "execution_count": 18
  },
  {
   "metadata": {},
   "cell_type": "code",
   "outputs": [],
   "execution_count": null,
   "source": [
    "print(f\"Best Parameters: {study.best_params}\")\n",
    "print(f\"Best Validation RMSE: {study.best_value}\")"
   ],
   "id": "7fe6985c8f815faa"
  },
  {
   "cell_type": "code",
   "execution_count": null,
   "id": "a89c529fba2f6411",
   "metadata": {},
   "outputs": [],
   "source": [
    "def save_model(model, filename):\n",
    "    with open(filename, 'wb') as f:\n",
    "        pickle.dump(model, f)\n",
    "save_model(best_model, 'best_xgb_model.pkl')"
   ]
  }
 ],
 "metadata": {
  "kernelspec": {
   "display_name": "base",
   "language": "python",
   "name": "python3"
  },
  "language_info": {
   "codemirror_mode": {
    "name": "ipython",
    "version": 3
   },
   "file_extension": ".py",
   "mimetype": "text/x-python",
   "name": "python",
   "nbconvert_exporter": "python",
   "pygments_lexer": "ipython3",
   "version": "3.12.2"
  }
 },
 "nbformat": 4,
 "nbformat_minor": 5
}
