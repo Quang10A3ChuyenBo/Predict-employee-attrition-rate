{
 "cells": [
  {
   "cell_type": "code",
   "execution_count": null,
   "id": "initial_id",
   "metadata": {
    "collapsed": true
   },
   "outputs": [],
   "source": [
    "import pandas as pd\n",
    "from sklearn.metrics import mean_squared_error\n",
    "from Method.GradientBoost import XGBoostRegressor as xgb"
   ]
  },
  {
   "metadata": {},
   "cell_type": "code",
   "outputs": [],
   "execution_count": null,
   "source": [
    "train_data = pd.read_csv(\"Processed Data/train.csv\")\n",
    "validation_data = pd.read_csv(\"Processed Data/validation.csv\")"
   ],
   "id": "b353ef8779f535d9"
  },
  {
   "metadata": {},
   "cell_type": "code",
   "outputs": [],
   "execution_count": null,
   "source": [
    "X_train = train_data.drop(columns=['Attrition_rate']).values\n",
    "y_train = train_data['Attrition_rate'].values"
   ],
   "id": "e0959bc7891e4a5e"
  },
  {
   "metadata": {},
   "cell_type": "code",
   "outputs": [],
   "execution_count": null,
   "source": [
    "X_val = validation_data.drop(columns=['Attrition_rate']).values\n",
    "y_val = validation_data['Attrition_rate'].values"
   ],
   "id": "72901916c09a0594"
  },
  {
   "metadata": {},
   "cell_type": "code",
   "outputs": [],
   "execution_count": null,
   "source": [
    "import optuna\n",
    "def objective(trial):\n",
    "    params = {\n",
    "        'subsample_cols': trial.suggest_float('subsample_cols', 0.6, 0.8),\n",
    "        'min_child_weight': trial.suggest_int('min_child_weight', 1, 10),\n",
    "        'depth': trial.suggest_int('depth', 3, 5),\n",
    "        'min_leaf': trial.suggest_int('min_leaf', 2, 5),\n",
    "        'learning_rate': trial.suggest_float('learning_rate', 0.1, 0.3),\n",
    "        'boosting_rounds': trial.suggest_int('boosting_rounds', 5, 15),\n",
    "        'lambda_': trial.suggest_float('lambda_', 1, 1.5),\n",
    "        'gamma': trial.suggest_float('gamma', 0.5, 1.3),\n",
    "        'eps': trial.suggest_float('eps', 0.1, 0.1),\n",
    "        'early_stopping_rounds': 5\n",
    "    }\n",
    "    print(\"Current Parameters:\", params)\n",
    "\n",
    "    model = xgb()\n",
    "    model.fit(X_train, y_train , **params)\n",
    "\n",
    "    y_pred_val = model.predict(X_val)\n",
    "    rmse = mean_squared_error(y_val, y_pred_val, squared=False)\n",
    "\n",
    "    return rmse\n"
   ],
   "id": "797b877e71db136c"
  },
  {
   "metadata": {},
   "cell_type": "code",
   "outputs": [],
   "execution_count": null,
   "source": [
    "study = optuna.create_study(direction='minimize')\n",
    "study.optimize(objective, n_trials=10)"
   ],
   "id": "ebb38660c2ee2e44"
  },
  {
   "metadata": {},
   "cell_type": "code",
   "outputs": [],
   "execution_count": null,
   "source": [
    "best_params = study.best_params\n",
    "\n",
    "best_model = xgb()\n",
    "best_model.fit(X_train, y_train, **best_params)\n",
    "y_pred = best_model.predict(X_val)\n",
    "final_rmse = mean_squared_error(y_val, y_pred, squared=False)"
   ],
   "id": "dc847d72b8365911"
  },
  {
   "metadata": {},
   "cell_type": "code",
   "outputs": [],
   "execution_count": null,
   "source": [
    "print(f\"Best Trial Parameters: {study.best_params}\")\n",
    "print(f\"Final RMSE on Validation Set: {final_rmse}\")"
   ],
   "id": "b020a5ffdd6d09c"
  },
  {
   "metadata": {},
   "cell_type": "code",
   "outputs": [],
   "execution_count": null,
   "source": "save_model(best_model, 'GD_is_the_best.pkl')",
   "id": "20e0389d33c737db"
  }
 ],
 "metadata": {
  "kernelspec": {
   "display_name": "Python 3",
   "language": "python",
   "name": "python3"
  },
  "language_info": {
   "codemirror_mode": {
    "name": "ipython",
    "version": 2
   },
   "file_extension": ".py",
   "mimetype": "text/x-python",
   "name": "python",
   "nbconvert_exporter": "python",
   "pygments_lexer": "ipython2",
   "version": "2.7.6"
  }
 },
 "nbformat": 4,
 "nbformat_minor": 5
}
